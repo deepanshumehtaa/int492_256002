{
 "cells": [
  {
   "cell_type": "markdown",
   "metadata": {},
   "source": [
    "## การสร้าง Deep Learning API"
   ]
  },
  {
   "cell_type": "markdown",
   "metadata": {},
   "source": [
    "ในหัวข้อนี้ เราจะเรียนวิธีการสร้าง Deep Learning REST API อย่างง่าย ด้วย Keras และ Flask web framework \n",
    "\n",
    "โดย REST API ที่เราจะสร้างในตัวอย่างนี้จะเป็น API สำหรับจำแนกรูปภาพของสุนัขพันธุ์ต่างๆ ดังรูปที่ 1.\n",
    "\n",
    "![](api_arch.png)\n",
    "<b><center>รูปที่ 1. REST API สำหรับจำแนกรูปภาพสุนัข</center></b>\n",
    "\n",
    "*ตัวอย่างนี้ นำมาจาก: https://blog.keras.io/building-a-simple-keras-deep-learning-rest-api.html"
   ]
  },
  {
   "cell_type": "markdown",
   "metadata": {},
   "source": [
    "### Setup the Development Environment"
   ]
  },
  {
   "cell_type": "markdown",
   "metadata": {},
   "source": [
    "#### Install Libraries"
   ]
  },
  {
   "cell_type": "markdown",
   "metadata": {},
   "source": [
    "```\n",
    "$ pip install flask gevent requests pillow\n",
    "```"
   ]
  },
  {
   "cell_type": "markdown",
   "metadata": {},
   "source": [
    "#### Designing Keras REST API"
   ]
  },
  {
   "cell_type": "markdown",
   "metadata": {},
   "source": [
    "Keras REST API ของเราจะประกอบด้วย 3 ฟังก์ชัน ดังนี้ คือ\n",
    "* load_the_model: เป็นฟังก์ชันสำหรับโหลด โมเดลการเรียนรู้เชิงลึก และเตรียมโมเดลให้พร้อมสำหรับการทำนาย\n",
    "* prepare_image: เป็นฟังก์ชันสำหรับเตรียมรูปภาพให้พร้อมสำหรับป้อนเป็นอินพุทให้กับโมเดล\n",
    "* predict: เป็น endpoint ของ API ของเรา ที่จะรับข้อมูลรูปภาพจาก client ทำนายชนิดของรูปภาพ และส่งผลการทำนายกลับไปให้กับ client"
   ]
  },
  {
   "cell_type": "markdown",
   "metadata": {},
   "source": [
    "#### Implement the API"
   ]
  },
  {
   "cell_type": "code",
   "execution_count": 1,
   "metadata": {},
   "outputs": [
    {
     "name": "stdout",
     "output_type": "stream",
     "text": [
      "Overwriting run_keras_server.py\n"
     ]
    }
   ],
   "source": [
    "%%writefile run_keras_server.py\n",
    "# import libraries\n",
    "from keras.applications import ResNet50\n",
    "from keras.preprocessing.image import img_to_array\n",
    "from keras.applications import imagenet_utils\n",
    "from PIL import Image\n",
    "import numpy as np\n",
    "import flask\n",
    "import io\n",
    "\n",
    "# constants for image dimensions\n",
    "IMG_WIDTH = 224\n",
    "IMG_HEIGHT = 224\n",
    "\n",
    "# initialize Flask app and the Keras model\n",
    "app = flask.Flask(__name__)\n",
    "model = None\n",
    "\n",
    "def load_model():\n",
    "    \"\"\"Load the ResNet50 pre-trained model.\"\"\"\n",
    "    global model\n",
    "    model = ResNet50(weights='imagenet')\n",
    "\n",
    "def prepare_image(image, target):\n",
    "    if image.mode != \"RGB\":\n",
    "        image = image.convert(\"RGB\")\n",
    "    # resize and make the image ready as an input to ResNet50\n",
    "    image = image.resize(target)\n",
    "    image = img_to_array(image)\n",
    "    image = np.expand_dims(image, axis=0) \n",
    "    iamge = imagenet_utils.preprocess_input(image)\n",
    "    \n",
    "    return image\n",
    "\n",
    "@app.route(\"/predict\", methods=[\"POST\"])\n",
    "def predict():\n",
    "    # initialize the data dictionary that will be returned from the view\n",
    "    data = {\"success\" : False}\n",
    "    \n",
    "    if flask.request.method == \"POST\":\n",
    "        if flask.request.files.get(\"image\"):\n",
    "            # read the image in PIL format\n",
    "            image = flask.request.files[\"image\"].read()\n",
    "            image = Image.open(io.BytesIO(image))\n",
    "            \n",
    "            # preprocess the image\n",
    "            image = prepare_image(image, target=(IMG_WIDTH, IMG_HEIGHT))\n",
    "            \n",
    "            # classify the image\n",
    "            preds = model.predict(image)\n",
    "            \n",
    "            # format the prediction output\n",
    "            results = imagenet_utils.decode_predictions(preds)\n",
    "            data[\"predictions\"] = []\n",
    "            \n",
    "            for (imagenetID, label, prob) in results[0]:\n",
    "                r = {\"label\" : label, \"probability\": float(prob)}\n",
    "                data[\"predictions\"].append(r)\n",
    "                \n",
    "            data[\"success\"] = True\n",
    "            \n",
    "    return flask.jsonify(data)\n",
    "\n",
    "if __name__ == \"__main__\":\n",
    "    print(\"* loading keras model and starting Flask server...\")\n",
    "    load_model()\n",
    "    app.run()"
   ]
  },
  {
   "cell_type": "markdown",
   "metadata": {},
   "source": [
    "#### Run the server"
   ]
  },
  {
   "cell_type": "markdown",
   "metadata": {},
   "source": [
    "```\n",
    "$ python run_keras_server.py\n",
    "```"
   ]
  },
  {
   "cell_type": "markdown",
   "metadata": {},
   "source": [
    "#### Makeing request using cURL"
   ]
  },
  {
   "cell_type": "markdown",
   "metadata": {},
   "source": [
    "```\n",
    "$ curl -X POST -F image=@dog.jpg 'http://localhost:5000/predict'\n",
    "```"
   ]
  },
  {
   "cell_type": "markdown",
   "metadata": {},
   "source": [
    "#### Making request programmatically"
   ]
  },
  {
   "cell_type": "code",
   "execution_count": 6,
   "metadata": {},
   "outputs": [
    {
     "name": "stdout",
     "output_type": "stream",
     "text": [
      "Overwriting simple_request.py\n"
     ]
    }
   ],
   "source": [
    "%%writefile simple_request.py\n",
    "import requests\n",
    "\n",
    "KERAS_REST_API_URL = 'http://localhost:5000/predict'\n",
    "IMAGE_PATH = 'dog.jpg'\n",
    "\n",
    "image = open(IMAGE_PATH, 'rb').read()\n",
    "payload = {\"image\": image}\n",
    "\n",
    "r = requests.post(KERAS_REST_API_URL, files=payload).json()\n",
    "\n",
    "if r['success']:\n",
    "    for (i, result) in enumerate(r['predictions']):\n",
    "        print('{}. {}: {:.4f}'.format(i + 1, result['label'],\n",
    "                                    resultb['probability']))\n",
    "else:\n",
    "    print('Request failed')"
   ]
  },
  {
   "cell_type": "markdown",
   "metadata": {},
   "source": [
    "#### นำโมเดลที่สร้างขึ้นเองมาใช้แทน ResNet50 "
   ]
  },
  {
   "cell_type": "code",
   "execution_count": 3,
   "metadata": {},
   "outputs": [
    {
     "name": "stdout",
     "output_type": "stream",
     "text": [
      "Overwriting run_keras_server2.py\n"
     ]
    }
   ],
   "source": [
    "%%writefile run_keras_server2.py\n",
    "# import libraries\n",
    "import keras.models\n",
    "from keras.preprocessing.image import img_to_array\n",
    "from keras.applications import imagenet_utils\n",
    "from PIL import Image\n",
    "import numpy as np\n",
    "import flask\n",
    "import io\n",
    "\n",
    "# constants for image dimensions\n",
    "IMG_WIDTH = 150\n",
    "IMG_HEIGHT = 150\n",
    "\n",
    "# initialize Flask app and the Keras model\n",
    "app = flask.Flask(__name__)\n",
    "model = None\n",
    "\n",
    "def load_model():    \n",
    "    \"\"\"Load our cats and dogs VGG16 model.\"\"\"    \n",
    "    global model\n",
    "    # Load our model \n",
    "    model = keras.models.load_model('cats_and_dogs-vgg16.h5')\n",
    "\n",
    "def prepare_image(image, target):\n",
    "    if image.mode != \"RGB\":\n",
    "        image = image.convert(\"RGB\")\n",
    "    # resize and make the image ready as an input to ResNet50\n",
    "    image = image.resize(target)\n",
    "    image = img_to_array(image)\n",
    "    image = np.expand_dims(image, axis=0) \n",
    "    iamge = imagenet_utils.preprocess_input(image)\n",
    "    \n",
    "    return image\n",
    "\n",
    "@app.route(\"/predict\", methods=[\"POST\"])\n",
    "def predict():\n",
    "    # initialize the data dictionary that will be returned from the view\n",
    "    data = {\"success\" : False}\n",
    "    \n",
    "    if flask.request.method == \"POST\":\n",
    "        if flask.request.files.get(\"image\"):\n",
    "            # read the image in PIL format\n",
    "            image = flask.request.files[\"image\"].read()\n",
    "            image = Image.open(io.BytesIO(image))\n",
    "            \n",
    "            # preprocess the image\n",
    "            image = prepare_image(image, target=(IMG_WIDTH, IMG_HEIGHT))\n",
    "            \n",
    "            # classify the image\n",
    "            preds = model.predict(image)\n",
    "            \n",
    "            # build the results\n",
    "            data[\"predictions\"] = []            \n",
    "            for pred in preds:\n",
    "                if pred:\n",
    "                    label = 'a dog'\n",
    "                else:\n",
    "                    label = 'a cat'\n",
    "                r = {\"label\" : label, \"probability\": None}\n",
    "                \n",
    "                data[\"predictions\"].append(r)\n",
    "                \n",
    "            data[\"success\"] = True\n",
    "            \n",
    "    return flask.jsonify(data)\n",
    "\n",
    "if __name__ == \"__main__\":\n",
    "    print(\"* loading keras model and starting Flask server...\")\n",
    "    load_model()\n",
    "    app.run()"
   ]
  },
  {
   "cell_type": "code",
   "execution_count": 5,
   "metadata": {},
   "outputs": [
    {
     "name": "stdout",
     "output_type": "stream",
     "text": [
      "Overwriting simple_request2.py\n"
     ]
    }
   ],
   "source": [
    "%%writefile simple_request2.py\n",
    "import requests\n",
    "\n",
    "KERAS_REST_API_URL = 'http://localhost:5000/predict'\n",
    "IMAGE_PATH = 'dog.jpg'\n",
    "\n",
    "image = open(IMAGE_PATH, 'rb').read()\n",
    "payload = {\"image\": image}\n",
    "\n",
    "r = requests.post(KERAS_REST_API_URL, files=payload).json()\n",
    "\n",
    "if r['success']:\n",
    "    for (i, result) in enumerate(r['predictions']):\n",
    "        print('{}. {}'.format(i + 1, result['label']))\n",
    "else:\n",
    "    print('Request failed')"
   ]
  }
 ],
 "metadata": {
  "kernelspec": {
   "display_name": "Python 3",
   "language": "python",
   "name": "python3"
  },
  "language_info": {
   "codemirror_mode": {
    "name": "ipython",
    "version": 3
   },
   "file_extension": ".py",
   "mimetype": "text/x-python",
   "name": "python",
   "nbconvert_exporter": "python",
   "pygments_lexer": "ipython3",
   "version": "3.5.4"
  }
 },
 "nbformat": 4,
 "nbformat_minor": 2
}
