{
 "cells": [
  {
   "cell_type": "markdown",
   "metadata": {},
   "source": [
    "# Transfer Learning ด้วย Pretrained CONVNET"
   ]
  },
  {
   "cell_type": "markdown",
   "metadata": {},
   "source": [
    "**Pretrained network** คือ convolutional network สำหรับการจำแนกประเภทของรูปภาพ ที่ผ่านการเทรนด้วยชุดข้อมูลขนาดใหญ่แล้ว โดยหากชุดข้อมูลที่ใช้เทรนมีขนาดใหญ่และมีความหลากหลายเพียงพอแล้ว ฟีเจอร์เชิงพื้นที่แบบมีลำดับขั้น (spatial hierarchy of features) ที่ pretrained convnet เรียนรู้ได้นั้น สามารถนำไปใช้เป็นโมเดลพื้นฐานสำหรับรูปทรงในการงานด้านการประมวลผลภาพ (computer vision) ปัญหาอื่น ที่ต่างไปจากเดิมได้ \n",
    "\n",
    "แนวความคิดในการนำ pretrained convnet ไปใช้ใน computer vision task ที่ต่างจาก computer vision task ที่โมเดลถูกสร้างขึ้นมานี้ เรียกว่า **transfer learning**"
   ]
  },
  {
   "cell_type": "markdown",
   "metadata": {},
   "source": [
    "![การนำ Pretrained CONVNET มาใช้](images/fig1.jpg)\n",
    "\n",
    "<center>**รูปที่ 1 การใช้ Pretrained convolutional neural network เป็น Feature Extractor สำหรับ classifier ตัวใหม่**</center>"
   ]
  },
  {
   "cell_type": "markdown",
   "metadata": {},
   "source": [
    "จากรูปที่ 1 จะเห็นว่า เราจะไม่นำส่วนที่เป็น dense layers ในตอนท้ายของ convnet มาใช้ เนื่องจากเหตุผลหลักสองประการคือ ข้อแรกฟีเจอร์ที่เรียนรู้ได้ในส่วนของ dense layers นี้จะเป็นฟีเจอร์ที่เฉพาะเจาะจงกับปัญหาที่ใช้ในการสร้าง pretrained model ขึ้นมา และข้อสองฟีเจอร์ที่เรียนรู้ได้ในส่วนของ dense layers จะไม่มีข้อมูลเกี่ยวกับตำแหน่งเหลืออยู่ ดังนั้นฟีเจอร์ที่เรียนรู้ได้ใน dense layers นี้ จึงไม่มีประโยชน์กับการประมวลผลภาพที่จำเป็นต้องใช้ข้อมูลเกี่ยวกับตำแหน่งของวัตถุ"
   ]
  },
  {
   "cell_type": "markdown",
   "metadata": {},
   "source": [
    "ไลบารี่ keras และ deeplearning4j ได้เตรียม pretrained convnet โมเดลไว้ให้กับผู้ใช้หลายตัว โดยสำหรับไลบารี่ deeplearning4j เราสามารถเลือกใช้ pretrained model ได้จากแพกเกจ \n",
    "```org.deeplearning4j.zoo``` (ข้อมูลเพิ่มเติมที่ https://deeplearning4j.org/model-zoo) สำหรับไลบารี่ keras pretrained model จะอยู่ในโมดูล ```keras.applications``` (ข้อมูลเพิ่มเติมที่ https://keras.io/applications)\n",
    "\n",
    "ตัวอย่าง pretrained convnet ใน keras และ deeplearning4j\n",
    "* VGG16\n",
    "* VGG19\n",
    "* ResNet50\n",
    "* InceptionResNetV1\n",
    "* InceptionResNetV2"
   ]
  },
  {
   "cell_type": "markdown",
   "metadata": {},
   "source": [
    "### ตัวอย่างการนำ Pretrained CONVNET (VGG16) มาใช้สร้าง Cat/Dog Classifier"
   ]
  },
  {
   "cell_type": "markdown",
   "metadata": {},
   "source": [
    "#### Load Data"
   ]
  },
  {
   "cell_type": "code",
   "execution_count": 1,
   "metadata": {},
   "outputs": [
    {
     "name": "stderr",
     "output_type": "stream",
     "text": [
      "/home/ubuntu/anaconda3/envs/tensorflow_p36/lib/python3.6/site-packages/h5py/__init__.py:36: FutureWarning: Conversion of the second argument of issubdtype from `float` to `np.floating` is deprecated. In future, it will be treated as `np.float64 == np.dtype(float).type`.\n",
      "  from ._conv import register_converters as _register_converters\n",
      "Using TensorFlow backend.\n",
      "/home/ubuntu/anaconda3/envs/tensorflow_p36/lib/python3.6/site-packages/matplotlib/__init__.py:962: UserWarning: Duplicate key in file \"/home/ubuntu/.config/matplotlib/matplotlibrc\", line #2\n",
      "  (fname, cnt))\n",
      "/home/ubuntu/anaconda3/envs/tensorflow_p36/lib/python3.6/site-packages/matplotlib/__init__.py:962: UserWarning: Duplicate key in file \"/home/ubuntu/.config/matplotlib/matplotlibrc\", line #3\n",
      "  (fname, cnt))\n"
     ]
    },
    {
     "name": "stdout",
     "output_type": "stream",
     "text": [
      "Found 2000 images belonging to 2 classes.\n",
      "Found 1000 images belonging to 2 classes.\n",
      "Found 1000 images belonging to 2 classes.\n"
     ]
    }
   ],
   "source": [
    "# load modules\n",
    "import os \n",
    "import numpy as np\n",
    "from keras.preprocessing.image import ImageDataGenerator\n",
    "\n",
    "# setup dataset paths\n",
    "base_dir = 'data/cats_and_dogs_small'\n",
    "train_dir = os.path.join(base_dir, 'train')\n",
    "validation_dir = os.path.join(base_dir, 'validation')\n",
    "test_dir = os.path.join(base_dir, 'test')\n",
    "\n",
    "# setup the Image data generator\n",
    "## augment the training dataset\n",
    "## by rotation, shifting, shearing, zoom, flip operations\n",
    "train_datagen = ImageDataGenerator(\n",
    "                    rescale=1./255,\n",
    "                    rotation_range=40,\n",
    "                    width_shift_range=0.2,\n",
    "                    height_shift_range=0.2,\n",
    "                    shear_range=0.2,\n",
    "                    zoom_range=0.2,\n",
    "                    horizontal_flip=True,\n",
    "                    fill_mode='nearest')\n",
    "\n",
    "test_datagen = ImageDataGenerator(rescale=1./255)\n",
    "\n",
    "train_generator = train_datagen.flow_from_directory(\n",
    "            train_dir,\n",
    "            target_size =(150, 150),\n",
    "            batch_size=20,\n",
    "            class_mode='binary')\n",
    "\n",
    "validation_generator = test_datagen.flow_from_directory(\n",
    "            validation_dir,\n",
    "            target_size=(150, 150),\n",
    "            batch_size=20,\n",
    "            class_mode='binary')\n",
    "\n",
    "test_generator = test_datagen.flow_from_directory(\n",
    "            test_dir,\n",
    "            target_size=(150, 150),\n",
    "            batch_size=20,\n",
    "            class_mode='binary')"
   ]
  },
  {
   "cell_type": "markdown",
   "metadata": {},
   "source": [
    "#### Load the Pretrained Model"
   ]
  },
  {
   "cell_type": "code",
   "execution_count": 2,
   "metadata": {},
   "outputs": [],
   "source": [
    "from keras.applications import VGG16\n",
    "\n",
    "# load the pretrained model\n",
    "conv_base = VGG16(weights='imagenet',   # used weights derived by pre-training on ImageNet \n",
    "                  include_top=False,    # do not include the dense layer\n",
    "                  input_shape=(150, 150, 3))  # if not specified, \n",
    "                                              # the network will be able \n",
    "                                              # to process input of any size\n",
    "        \n",
    "# Freeze the network by setting its trainable attribute to False\n",
    "# this is done to prevent weights in the convolutional base from \n",
    "# being updated during training.\n",
    "conv_base.trainable = False"
   ]
  },
  {
   "cell_type": "code",
   "execution_count": 3,
   "metadata": {},
   "outputs": [
    {
     "name": "stdout",
     "output_type": "stream",
     "text": [
      "_________________________________________________________________\n",
      "Layer (type)                 Output Shape              Param #   \n",
      "=================================================================\n",
      "input_1 (InputLayer)         (None, 150, 150, 3)       0         \n",
      "_________________________________________________________________\n",
      "block1_conv1 (Conv2D)        (None, 150, 150, 64)      1792      \n",
      "_________________________________________________________________\n",
      "block1_conv2 (Conv2D)        (None, 150, 150, 64)      36928     \n",
      "_________________________________________________________________\n",
      "block1_pool (MaxPooling2D)   (None, 75, 75, 64)        0         \n",
      "_________________________________________________________________\n",
      "block2_conv1 (Conv2D)        (None, 75, 75, 128)       73856     \n",
      "_________________________________________________________________\n",
      "block2_conv2 (Conv2D)        (None, 75, 75, 128)       147584    \n",
      "_________________________________________________________________\n",
      "block2_pool (MaxPooling2D)   (None, 37, 37, 128)       0         \n",
      "_________________________________________________________________\n",
      "block3_conv1 (Conv2D)        (None, 37, 37, 256)       295168    \n",
      "_________________________________________________________________\n",
      "block3_conv2 (Conv2D)        (None, 37, 37, 256)       590080    \n",
      "_________________________________________________________________\n",
      "block3_conv3 (Conv2D)        (None, 37, 37, 256)       590080    \n",
      "_________________________________________________________________\n",
      "block3_pool (MaxPooling2D)   (None, 18, 18, 256)       0         \n",
      "_________________________________________________________________\n",
      "block4_conv1 (Conv2D)        (None, 18, 18, 512)       1180160   \n",
      "_________________________________________________________________\n",
      "block4_conv2 (Conv2D)        (None, 18, 18, 512)       2359808   \n",
      "_________________________________________________________________\n",
      "block4_conv3 (Conv2D)        (None, 18, 18, 512)       2359808   \n",
      "_________________________________________________________________\n",
      "block4_pool (MaxPooling2D)   (None, 9, 9, 512)         0         \n",
      "_________________________________________________________________\n",
      "block5_conv1 (Conv2D)        (None, 9, 9, 512)         2359808   \n",
      "_________________________________________________________________\n",
      "block5_conv2 (Conv2D)        (None, 9, 9, 512)         2359808   \n",
      "_________________________________________________________________\n",
      "block5_conv3 (Conv2D)        (None, 9, 9, 512)         2359808   \n",
      "_________________________________________________________________\n",
      "block5_pool (MaxPooling2D)   (None, 4, 4, 512)         0         \n",
      "=================================================================\n",
      "Total params: 14,714,688\n",
      "Trainable params: 0\n",
      "Non-trainable params: 14,714,688\n",
      "_________________________________________________________________\n"
     ]
    }
   ],
   "source": [
    "# show a summary of model architecture\n",
    "conv_base.summary()"
   ]
  },
  {
   "cell_type": "markdown",
   "metadata": {},
   "source": [
    "#### สร้างโมเดล โดยการเพิ่ม Dense Layer บน convolutional base"
   ]
  },
  {
   "cell_type": "code",
   "execution_count": 4,
   "metadata": {},
   "outputs": [
    {
     "name": "stdout",
     "output_type": "stream",
     "text": [
      "_________________________________________________________________\n",
      "Layer (type)                 Output Shape              Param #   \n",
      "=================================================================\n",
      "vgg16 (Model)                (None, 4, 4, 512)         14714688  \n",
      "_________________________________________________________________\n",
      "flatten_1 (Flatten)          (None, 8192)              0         \n",
      "_________________________________________________________________\n",
      "dense_1 (Dense)              (None, 256)               2097408   \n",
      "_________________________________________________________________\n",
      "dense_2 (Dense)              (None, 1)                 257       \n",
      "=================================================================\n",
      "Total params: 16,812,353\n",
      "Trainable params: 2,097,665\n",
      "Non-trainable params: 14,714,688\n",
      "_________________________________________________________________\n"
     ]
    }
   ],
   "source": [
    "from keras import models\n",
    "from keras import layers\n",
    "\n",
    "model = models.Sequential()\n",
    "model.add(conv_base)\n",
    "model.add(layers.Flatten())\n",
    "model.add(layers.Dense(256, activation='relu'))\n",
    "model.add(layers.Dense(1, activation='sigmoid'))\n",
    "\n",
    "model.summary()"
   ]
  },
  {
   "cell_type": "markdown",
   "metadata": {},
   "source": [
    "#### เทรนโมเดลใหม่"
   ]
  },
  {
   "cell_type": "code",
   "execution_count": 6,
   "metadata": {},
   "outputs": [
    {
     "name": "stdout",
     "output_type": "stream",
     "text": [
      "Epoch 1/30\n",
      "100/100 [==============================] - 50s 503ms/step - loss: 0.4804 - acc: 0.7885 - val_loss: 0.3728 - val_acc: 0.8590\n",
      "Epoch 2/30\n",
      "100/100 [==============================] - 50s 502ms/step - loss: 0.4294 - acc: 0.8135 - val_loss: 0.3468 - val_acc: 0.8330\n",
      "Epoch 3/30\n",
      "100/100 [==============================] - 50s 500ms/step - loss: 0.3936 - acc: 0.8390 - val_loss: 0.3075 - val_acc: 0.8690\n",
      "Epoch 4/30\n",
      "100/100 [==============================] - 31s 311ms/step - loss: 0.3863 - acc: 0.8305 - val_loss: 0.2978 - val_acc: 0.8740\n",
      "Epoch 5/30\n",
      "100/100 [==============================] - 24s 235ms/step - loss: 0.3680 - acc: 0.8325 - val_loss: 0.2867 - val_acc: 0.8690\n",
      "Epoch 6/30\n",
      "100/100 [==============================] - 23s 235ms/step - loss: 0.3562 - acc: 0.8450 - val_loss: 0.2771 - val_acc: 0.8830\n",
      "Epoch 7/30\n",
      "100/100 [==============================] - 24s 235ms/step - loss: 0.3418 - acc: 0.8520 - val_loss: 0.2715 - val_acc: 0.8950\n",
      "Epoch 8/30\n",
      "100/100 [==============================] - 24s 235ms/step - loss: 0.3408 - acc: 0.8530 - val_loss: 0.2807 - val_acc: 0.8750\n",
      "Epoch 9/30\n",
      "100/100 [==============================] - 23s 235ms/step - loss: 0.3362 - acc: 0.8530 - val_loss: 0.2627 - val_acc: 0.8960\n",
      "Epoch 10/30\n",
      "100/100 [==============================] - 23s 235ms/step - loss: 0.3458 - acc: 0.8525 - val_loss: 0.2574 - val_acc: 0.9010\n",
      "Epoch 11/30\n",
      "100/100 [==============================] - 23s 235ms/step - loss: 0.3235 - acc: 0.8645 - val_loss: 0.2793 - val_acc: 0.8740\n",
      "Epoch 12/30\n",
      "100/100 [==============================] - 24s 235ms/step - loss: 0.3257 - acc: 0.8615 - val_loss: 0.2626 - val_acc: 0.8900\n",
      "Epoch 13/30\n",
      "100/100 [==============================] - 23s 235ms/step - loss: 0.3136 - acc: 0.8640 - val_loss: 0.2481 - val_acc: 0.8980\n",
      "Epoch 14/30\n",
      "100/100 [==============================] - 24s 243ms/step - loss: 0.3087 - acc: 0.8600 - val_loss: 0.2444 - val_acc: 0.8980\n",
      "Epoch 15/30\n",
      "100/100 [==============================] - 23s 235ms/step - loss: 0.3101 - acc: 0.8700 - val_loss: 0.2443 - val_acc: 0.8950\n",
      "Epoch 16/30\n",
      "100/100 [==============================] - 23s 235ms/step - loss: 0.2988 - acc: 0.8660 - val_loss: 0.2460 - val_acc: 0.8980\n",
      "Epoch 17/30\n",
      "100/100 [==============================] - 23s 235ms/step - loss: 0.3011 - acc: 0.8670 - val_loss: 0.2415 - val_acc: 0.9000\n",
      "Epoch 18/30\n",
      "100/100 [==============================] - 24s 235ms/step - loss: 0.2959 - acc: 0.8670 - val_loss: 0.2561 - val_acc: 0.8890\n",
      "Epoch 19/30\n",
      "100/100 [==============================] - 23s 235ms/step - loss: 0.2956 - acc: 0.8705 - val_loss: 0.2443 - val_acc: 0.8970\n",
      "Epoch 20/30\n",
      "100/100 [==============================] - 23s 235ms/step - loss: 0.3080 - acc: 0.8705 - val_loss: 0.2393 - val_acc: 0.8980\n",
      "Epoch 21/30\n",
      "100/100 [==============================] - 23s 235ms/step - loss: 0.3027 - acc: 0.8680 - val_loss: 0.2364 - val_acc: 0.9040\n",
      "Epoch 22/30\n",
      "100/100 [==============================] - 23s 235ms/step - loss: 0.3039 - acc: 0.8695 - val_loss: 0.2455 - val_acc: 0.9020\n",
      "Epoch 23/30\n",
      "100/100 [==============================] - 23s 235ms/step - loss: 0.2872 - acc: 0.8770 - val_loss: 0.2365 - val_acc: 0.9050\n",
      "Epoch 24/30\n",
      "100/100 [==============================] - 23s 235ms/step - loss: 0.2813 - acc: 0.8885 - val_loss: 0.2411 - val_acc: 0.9060\n",
      "Epoch 25/30\n",
      "100/100 [==============================] - 23s 235ms/step - loss: 0.2815 - acc: 0.8805 - val_loss: 0.2369 - val_acc: 0.9070\n",
      "Epoch 26/30\n",
      "100/100 [==============================] - 24s 235ms/step - loss: 0.2823 - acc: 0.8785 - val_loss: 0.2345 - val_acc: 0.9020\n",
      "Epoch 27/30\n",
      "100/100 [==============================] - 23s 235ms/step - loss: 0.2781 - acc: 0.8835 - val_loss: 0.2328 - val_acc: 0.9030\n",
      "Epoch 28/30\n",
      "100/100 [==============================] - 23s 235ms/step - loss: 0.2751 - acc: 0.8860 - val_loss: 0.2527 - val_acc: 0.8940\n",
      "Epoch 29/30\n",
      "100/100 [==============================] - 23s 234ms/step - loss: 0.2856 - acc: 0.8780 - val_loss: 0.2365 - val_acc: 0.9080\n",
      "Epoch 30/30\n",
      "100/100 [==============================] - 23s 235ms/step - loss: 0.2891 - acc: 0.8760 - val_loss: 0.2437 - val_acc: 0.9070\n"
     ]
    }
   ],
   "source": [
    "from keras import optimizers\n",
    "\n",
    "model.compile(loss='binary_crossentropy',\n",
    "              optimizer=optimizers.RMSprop(lr=2e-5),\n",
    "              metrics=['acc'])\n",
    "\n",
    "history = model.fit_generator(\n",
    "            train_generator,\n",
    "            steps_per_epoch=100,\n",
    "            epochs=30,\n",
    "            validation_data=validation_generator,\n",
    "            validation_steps=50)"
   ]
  },
  {
   "cell_type": "markdown",
   "metadata": {},
   "source": [
    "#### บันทึกโมเดลไว้ใช้งานภายหลัง"
   ]
  },
  {
   "cell_type": "code",
   "execution_count": 7,
   "metadata": {},
   "outputs": [],
   "source": [
    "model.save('cats_and_dogs_small-vgg16.h5')"
   ]
  },
  {
   "cell_type": "markdown",
   "metadata": {},
   "source": [
    "#### พล็อตกราฟแสดงประสิทธิภาพระหว่างการเทรน"
   ]
  },
  {
   "cell_type": "code",
   "execution_count": 10,
   "metadata": {},
   "outputs": [
    {
     "data": {
      "image/png": "[encoded data removed]",
      "text/plain": [
       "<matplotlib.figure.Figure at 0x7f7456b3c438>"
      ]
     },
     "metadata": {},
     "output_type": "display_data"
    },
    {
     "data": {
      "image/png": "[encoded data removed]",
      "text/plain": [
       "<matplotlib.figure.Figure at 0x7f74554628d0>"
      ]
     },
     "metadata": {},
     "output_type": "display_data"
    }
   ],
   "source": [
    "import matplotlib.pyplot as plt\n",
    "\n",
    "acc = history.history['acc']\n",
    "val_acc = history.history['val_acc']\n",
    "loss = history.history['loss']\n",
    "val_loss = history.history['val_loss']\n",
    "\n",
    "epochs = range(1, len(acc) + 1)\n",
    "\n",
    "# Accuracy Plots\n",
    "plt.plot(epochs, acc, 'bo', label='Training accuracy')\n",
    "plt.plot(epochs, val_acc, 'b', label='Validation accuracy')\n",
    "plt.title('Training and Validation Accuracy')\n",
    "plt.legend()\n",
    "\n",
    "plt.figure()\n",
    "\n",
    "# Loss Plots\n",
    "plt.plot(epochs, loss, 'bo', label='Training loss')\n",
    "plt.plot(epochs, val_loss, 'b', label='Validation loss')\n",
    "plt.title('Training and Validation Loss')\n",
    "plt.legend()\n",
    "\n",
    "plt.show()"
   ]
  },
  {
   "cell_type": "markdown",
   "metadata": {},
   "source": [
    "#### ประเมินประสิทธิภาพของโมเดลที่ได้บน test data"
   ]
  },
  {
   "cell_type": "code",
   "execution_count": 12,
   "metadata": {},
   "outputs": [
    {
     "name": "stdout",
     "output_type": "stream",
     "text": [
      "test acc: 0.8869999969005584\n",
      "test loss: 0.25696869783103465\n"
     ]
    }
   ],
   "source": [
    "test_loss, test_acc = model.evaluate_generator(test_generator, steps=50)\n",
    "print('test acc:', test_acc)\n",
    "print('test loss:', test_loss)"
   ]
  },
  {
   "cell_type": "markdown",
   "metadata": {},
   "source": [
    "### สรุป"
   ]
  },
  {
   "cell_type": "markdown",
   "metadata": {},
   "source": [
    "* Convolutional neural network (convnet) เป็นโมเดลการเรียนรู้เชิงลึกที่เหมาะสำหรับการประมวลผลภาพ (computer vision)\n",
    "\n",
    "* เราสามารถสร้าง convnet เองทั้งหมด หรือสร้างต่อยอดจาก pretrained models ต่างๆ เช่น VGG16, VGG19, ResNet\n",
    "\n",
    "* สำหรับโปรเจ็กต์ที่ชุดข้อมูลมีขนาดเล็ก ปัญหาที่มักพบบ่อยคือ overfitting (โมเดลที่ได้มีประสิทธิภาพที่ดีบนชุดเทรน แต่ไม่ดีบนชุดทดสอบ) วิธีการแก้ปัญหา overfitting มีหลายวิธี เช่น การใช้ dropout layers, การทำ data augmentation, หรือการใช้ Pretrained models\n",
    "   * ในไลบารี keras และ deeplearning4j มี Pretrained Models เตรียมไว้ให้ใช้งานได้หลายโมเดล เราสามารถนำส่วน convolutional layers ของ pretrained models มาใช้สร้าง convnet ตัวใหม่ได้ โดยการเพิ่ม dense layers เข้าไปบน convolutional base "
   ]
  },
  {
   "cell_type": "code",
   "execution_count": null,
   "metadata": {},
   "outputs": [],
   "source": []
  }
 ],
 "metadata": {
  "kernelspec": {
   "display_name": "Python 3",
   "language": "python",
   "name": "python3"
  },
  "language_info": {
   "codemirror_mode": {
    "name": "ipython",
    "version": 3
   },
   "file_extension": ".py",
   "mimetype": "text/x-python",
   "name": "python",
   "nbconvert_exporter": "python",
   "pygments_lexer": "ipython3",
   "version": "3.5.4"
  }
 },
 "nbformat": 4,
 "nbformat_minor": 2
}
