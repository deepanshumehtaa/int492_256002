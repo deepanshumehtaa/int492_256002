{
 "cells": [
  {
   "cell_type": "markdown",
   "metadata": {},
   "source": [
    "# การสร้างงานศิลปะด้วย Neural Style Transfer"
   ]
  },
  {
   "cell_type": "markdown",
   "metadata": {},
   "source": [
    "Neural Style Transfer (NST) คือการสร้างรูปภาพที่มีข้อมูลเหมือนกันกับ รูปภาพตั้งต้น (content image) แต่มีสไตล์ของรูปเหมือนกันกับสไตล์ของรูปอีกรูปหนึ่ง (style image)  เช่น\n",
    "\n",
    "![images/nst.jpeg](images/nst.jpeg)\n",
    "<center>**รูปที่ 1 ตัวอย่างของ Neural Style Transfer**<br /> (source: http://www.subsubroutine.com/sub-subroutine/2016/11/12/painting-like-van-gogh-with-convolutional-neural-networks)</center>"
   ]
  },
  {
   "cell_type": "markdown",
   "metadata": {},
   "source": [
    "เทคนิค NST ถูกคิดค้นขึ้นโดย Gatys et al. (2015) https://arxiv.org/abs/1508.06576 \n",
    "\n",
    "แนวคิดหลักคือ การใช้ loss function ซึ่งประกอบด้วย 3 องค์ประกอบ ได้แก่ \"style loss\", \"content loss\", และ \"total variation loss\":\n",
    "\n",
    "* total variation loss เป็นฟังก์ชัน ที่นำมาใช้ช่วยสร้างความกลมกลืน (visual coherence) ให้กับรุปภาพที่สร้างขึ้น\n",
    "* style loss ใช้สำหรับดึง สไตล์จาก style image ออกมาผสมกับ content image ส่วนนี้เป็นส่วนที่นำ convolutional neural network มาใช้ \n",
    "* content loss เป็นฟังก์ชัน ที่นำมาใช้สำหรับสกัดเนื้อข้อมูลจาก content image ออกมาผสมกับรูปภาพที่จะสร้างขึ้น\n",
    "\n",
    "นอกจาก loss funcitons ทั้งสามส่วน ดังกล่าวข้างต้น เทคนิคอีกอันหนึ่งที่ถูกนำมาประยุกต์ใช้สร้าง NST ก็คือ transfer learning โดยใช้ pretrained convnet ในตัวอย่างที่จะอธิบายต่อไปนี้ จะเป็นการใช้ pretrained model **VGG19** ของ Keras มาใช้เป็นฐานในการสร้าง deep learning model สำหรับ neural style transer"
   ]
  },
  {
   "cell_type": "markdown",
   "metadata": {},
   "source": [
    "### Neural Style Transfer ด้วย Keras"
   ]
  },
  {
   "cell_type": "markdown",
   "metadata": {},
   "source": [
    "#### Import modules"
   ]
  },
  {
   "cell_type": "code",
   "execution_count": 1,
   "metadata": {},
   "outputs": [
    {
     "name": "stderr",
     "output_type": "stream",
     "text": [
      "/home/ubuntu/anaconda3/envs/tensorflow_p36/lib/python3.6/site-packages/h5py/__init__.py:36: FutureWarning: Conversion of the second argument of issubdtype from `float` to `np.floating` is deprecated. In future, it will be treated as `np.float64 == np.dtype(float).type`.\n",
      "  from ._conv import register_converters as _register_converters\n",
      "Using TensorFlow backend.\n",
      "/home/ubuntu/anaconda3/envs/tensorflow_p36/lib/python3.6/site-packages/matplotlib/__init__.py:962: UserWarning: Duplicate key in file \"/home/ubuntu/.config/matplotlib/matplotlibrc\", line #2\n",
      "  (fname, cnt))\n",
      "/home/ubuntu/anaconda3/envs/tensorflow_p36/lib/python3.6/site-packages/matplotlib/__init__.py:962: UserWarning: Duplicate key in file \"/home/ubuntu/.config/matplotlib/matplotlibrc\", line #3\n",
      "  (fname, cnt))\n"
     ]
    }
   ],
   "source": [
    "from __future__ import print_function\n",
    "from keras.preprocessing.image import load_img, img_to_array\n",
    "from scipy.misc import imsave\n",
    "import numpy as np\n",
    "from scipy.optimize import fmin_l_bfgs_b\n",
    "import time\n",
    "import argparse\n",
    "\n",
    "from keras.applications import vgg19\n",
    "from keras import backend as K"
   ]
  },
  {
   "cell_type": "markdown",
   "metadata": {},
   "source": [
    "#### Set file paths and other model parameters"
   ]
  },
  {
   "cell_type": "code",
   "execution_count": 2,
   "metadata": {},
   "outputs": [],
   "source": [
    "# set image paths\n",
    "base_image_path  = 'images/kinkakuji.jpg'\n",
    "style_image_path = 'images/starry.jpg'\n",
    "result_prefix    = 'results/kinkakuji_starry' \n",
    "iterations = 10\n",
    "\n",
    "# weights of different loss functions\n",
    "total_variation_weight = 1.0\n",
    "style_weight = 1.0\n",
    "content_weight = 0.025\n",
    "\n",
    "# dimensions of the generated picture.\n",
    "width, height = load_img(base_image_path).size\n",
    "img_nrows = 400\n",
    "img_ncols = int(width * img_nrows / height)"
   ]
  },
  {
   "cell_type": "markdown",
   "metadata": {},
   "source": [
    "#### Load Images and Setup VGG19"
   ]
  },
  {
   "cell_type": "code",
   "execution_count": 3,
   "metadata": {},
   "outputs": [],
   "source": [
    "def preprocess_image(image_path):\n",
    "    # load image from file path\n",
    "    img = load_img(image_path, target_size=(img_nrows, img_ncols))\n",
    "    # convert the image into an array\n",
    "    img = img_to_array(img)\n",
    "    # expand the dimension of the image\n",
    "    img = np.expand_dims(img, axis=0) \n",
    "    # format the image dimenstions for inputing to VGG19\n",
    "    img = vgg19.preprocess_input(img) \n",
    "    return img\n",
    "\n",
    "\n",
    "def deprocess_image(x):\n",
    "    \"\"\"Convert an image tensor back to a valid image\"\"\"\n",
    "    if K.image_data_format() == 'channels_first':\n",
    "        x = x.reshape((3, img_nrows, img_ncols))\n",
    "        x = x.transpose((1, 2, 0))\n",
    "    else:\n",
    "        x = x.reshape((img_nrows, img_ncols, 3))\n",
    "    # remove zero-center by mean pixel\n",
    "    x[:, :, 0] += 103.939\n",
    "    x[:, :, 1] += 116.779\n",
    "    x[:, :, 2] += 123.68\n",
    "    # 'BGR' -> 'RGB'\n",
    "    x = x[:, :, ::-1]\n",
    "    x = np.clip(x, 0, 255).astype('uint8')\n",
    "    return x\n"
   ]
  },
  {
   "cell_type": "code",
   "execution_count": 4,
   "metadata": {},
   "outputs": [
    {
     "name": "stdout",
     "output_type": "stream",
     "text": [
      "VGG19 model loaded.\n"
     ]
    }
   ],
   "source": [
    "# construct base_image variable\n",
    "base_image = K.variable(preprocess_image(base_image_path))\n",
    "\n",
    "# construct style_image variable\n",
    "style_image = K.variable(preprocess_image(style_image_path))\n",
    "\n",
    "# construct generated_image variable\n",
    "if K.image_data_format() == 'channels_first':\n",
    "    combination_image = K.placeholder((1, 3, img_nrows, img_ncols))\n",
    "else:\n",
    "    combination_image = K.placeholder((1, img_nrows, img_ncols, 3))\n",
    "    \n",
    "# combine the 3 images into a single tensor\n",
    "input_tensor = K.concatenate([base_image, \n",
    "                              style_image, \n",
    "                              combination_image],\n",
    "                              axis=0)\n",
    "\n",
    "# build the pretrained VGG19 model with the 3 images as input\n",
    "model = vgg19.VGG19(input_tensor=input_tensor, \n",
    "                    weights='imagenet', \n",
    "                    include_top=False)\n",
    "\n",
    "print('VGG19 model loaded.')\n",
    "\n",
    "# construct a dictionary mapping from layer name => layer output\n",
    "outputs_dict = dict([(layer.name, layer.output) for layer in model.layers])"
   ]
  },
  {
   "cell_type": "markdown",
   "metadata": {},
   "source": [
    "#### Define Loss Functions"
   ]
  },
  {
   "cell_type": "code",
   "execution_count": 5,
   "metadata": {},
   "outputs": [],
   "source": [
    "def gram_matrix(x):\n",
    "    assert K.ndim(x) == 3\n",
    "    if K.image_data_format() == 'channels_first':\n",
    "        features = K.batch_flatten(x)\n",
    "    else:\n",
    "        features = K.batch_flatten(K.permute_dimensions(x, (2, 0, 1)))\n",
    "    gram = K.dot(features, K.transpose(features))\n",
    "    return gram\n",
    "\n",
    "def style_loss(style, combination):\n",
    "    \"\"\"The style loss designed to maintain the style of the \n",
    "    reference image in the generated image.\n",
    "    It is based on the gram matrices of feature maps from the \n",
    "    style image and from the generated image.\"\"\"\n",
    "    assert K.ndim(style) == 3\n",
    "    assert K.ndim(combination) == 3\n",
    "    S = gram_matrix(style)\n",
    "    C = gram_matrix(combination)\n",
    "    channels = 3\n",
    "    size = img_nrows * img_ncols\n",
    "    return K.sum(K.square(S - C)) / (4. * (channels ** 2) * (size ** 2))\n",
    "\n",
    "def content_loss(base, combination):\n",
    "    \"\"\"The content loss designed to maintain the 'content' \n",
    "    of the base image in the generated image.\"\"\"\n",
    "    \n",
    "    return K.sum(K.square(combination - base))\n",
    "\n",
    "def total_variation_loss(x):\n",
    "    assert K.ndim(x) == 4\n",
    "    if K.image_data_format() == 'channels_first':\n",
    "        a = K.square(x[:, :, :img_nrows - 1, :img_ncols - 1] - x[:, :, 1:, :img_ncols - 1])\n",
    "        b = K.square(x[:, :, :img_nrows - 1, :img_ncols - 1] - x[:, :, :img_nrows - 1, 1:])\n",
    "    else:\n",
    "        a = K.square(x[:, :img_nrows - 1, :img_ncols - 1, :] - x[:, 1:, :img_ncols - 1, :])\n",
    "        b = K.square(x[:, :img_nrows - 1, :img_ncols - 1, :] - x[:, :img_nrows - 1, 1:, :])\n",
    "    return K.sum(K.pow(a + b, 1.25))\n",
    "\n",
    "# combine loss functions into a single scalar\n",
    "loss = K.variable(0.)\n",
    "layer_features = outputs_dict['block5_conv2']\n",
    "base_image_features = layer_features[0, :, :, :]\n",
    "combination_features = layer_features[2, :, :, :]\n",
    "loss += content_weight * content_loss(base_image_features, combination_features)\n",
    "\n",
    "feature_layers = ['block1_conv1', 'block2_conv1', 'block3_conv1', \n",
    "                  'block4_conv1', 'block5_conv1']\n",
    "for layer_name in feature_layers:\n",
    "    layer_features = outputs_dict[layer_name]\n",
    "    style_features = layer_features[1, :, :, :]\n",
    "    combination_features = layer_features[2, :, :, :]\n",
    "    s_loss = style_loss(style_features, combination_features)\n",
    "    loss += (style_weight / len(feature_layers)) * s_loss\n",
    "\n",
    "loss += total_variation_weight * total_variation_loss(combination_image)\n",
    "\n",
    "grads = K.gradients(loss, combination_image)\n",
    "\n",
    "outputs = [loss]\n",
    "if isinstance(grads, (list,tuple)):\n",
    "    outputs += grads\n",
    "else:\n",
    "    outputs.append(grads)\n",
    "    \n",
    "f_outputs = K.function([combination_image], outputs)"
   ]
  },
  {
   "cell_type": "markdown",
   "metadata": {},
   "source": [
    "#### Define an the Evaluator Class "
   ]
  },
  {
   "cell_type": "code",
   "execution_count": 6,
   "metadata": {},
   "outputs": [],
   "source": [
    "def eval_loss_and_grads(x):\n",
    "    if K.image_data_format() == 'channels_first':\n",
    "        x = x.reshape((1, 3, img_nrows, img_ncols))\n",
    "    else:\n",
    "        x = x.reshape((1, img_nrows, img_ncols, 3))\n",
    "    outs = f_outputs([x])\n",
    "    loss_value = outs[0]\n",
    "    if len(outs[1:]) == 1:\n",
    "        grad_values = outs[1].flatten().astype('float64')\n",
    "    else:\n",
    "        grad_values = np.array(outs[1:]).flatten().astype('float64')\n",
    "    return loss_value, grad_values\n",
    "\n",
    "# the Evaluator class is used for computing loss and gradient during the optimization \n",
    "class Evaluator(object):\n",
    "    \n",
    "    def __init__(self):\n",
    "        self.loss_value = None\n",
    "        self.grads_values = None\n",
    "    \n",
    "    def loss(self, x):\n",
    "        assert self.loss_value is None\n",
    "        loss_value, grad_values = eval_loss_and_grads(x)\n",
    "        self.loss_value  = loss_value\n",
    "        self.grad_values = grad_values\n",
    "        return self.loss_value\n",
    "    \n",
    "    def grads(self, x):\n",
    "        assert self.loss_value is not None\n",
    "        grad_values = np.copy(self.grad_values)\n",
    "        self.loss_value = None\n",
    "        self.grad_values = None\n",
    "        return grad_values\n",
    "    \n",
    "evaluator = Evaluator()"
   ]
  },
  {
   "cell_type": "markdown",
   "metadata": {},
   "source": [
    "#### Run the optimization over the pixels of the generated image "
   ]
  },
  {
   "cell_type": "code",
   "execution_count": 7,
   "metadata": {},
   "outputs": [
    {
     "name": "stdout",
     "output_type": "stream",
     "text": [
      "Start of iteration 0\n",
      "Current loss value: 6074272000.0\n",
      "Image saved as results/kinkakuji_starry_at_iteration_0.png\n",
      "Iteration 0 completed in 20s\n",
      "Start of iteration 1\n"
     ]
    },
    {
     "name": "stderr",
     "output_type": "stream",
     "text": [
      "/home/ubuntu/anaconda3/envs/tensorflow_p36/lib/python3.6/site-packages/ipykernel/__main__.py:11: DeprecationWarning: `imsave` is deprecated!\n",
      "`imsave` is deprecated in SciPy 1.0.0, and will be removed in 1.2.0.\n",
      "Use ``imageio.imwrite`` instead.\n"
     ]
    },
    {
     "name": "stdout",
     "output_type": "stream",
     "text": [
      "Current loss value: 3910710300.0\n",
      "Image saved as results/kinkakuji_starry_at_iteration_1.png\n",
      "Iteration 1 completed in 17s\n",
      "Start of iteration 2\n",
      "Current loss value: 3230177000.0\n",
      "Image saved as results/kinkakuji_starry_at_iteration_2.png\n",
      "Iteration 2 completed in 25s\n",
      "Start of iteration 3\n",
      "Current loss value: 2936898800.0\n",
      "Image saved as results/kinkakuji_starry_at_iteration_3.png\n",
      "Iteration 3 completed in 22s\n",
      "Start of iteration 4\n",
      "Current loss value: 2755356200.0\n",
      "Image saved as results/kinkakuji_starry_at_iteration_4.png\n",
      "Iteration 4 completed in 23s\n",
      "Start of iteration 5\n",
      "Current loss value: 2641808100.0\n",
      "Image saved as results/kinkakuji_starry_at_iteration_5.png\n",
      "Iteration 5 completed in 29s\n",
      "Start of iteration 6\n",
      "Current loss value: 2525306400.0\n",
      "Image saved as results/kinkakuji_starry_at_iteration_6.png\n",
      "Iteration 6 completed in 29s\n",
      "Start of iteration 7\n",
      "Current loss value: 2459997200.0\n",
      "Image saved as results/kinkakuji_starry_at_iteration_7.png\n",
      "Iteration 7 completed in 29s\n",
      "Start of iteration 8\n",
      "Current loss value: 2421367800.0\n",
      "Image saved as results/kinkakuji_starry_at_iteration_8.png\n",
      "Iteration 8 completed in 29s\n",
      "Start of iteration 9\n",
      "Current loss value: 2382685400.0\n",
      "Image saved as results/kinkakuji_starry_at_iteration_9.png\n",
      "Iteration 9 completed in 30s\n"
     ]
    }
   ],
   "source": [
    "x = preprocess_image(base_image_path)\n",
    "\n",
    "for i in range(iterations):\n",
    "    print('Start of iteration', i)\n",
    "    start_time = time.time()\n",
    "    x, min_val, info = fmin_l_bfgs_b(evaluator.loss, x.flatten(),\n",
    "                                     fprime=evaluator.grads, maxfun=20)\n",
    "    print('Current loss value:', min_val)\n",
    "    img = deprocess_image(x.copy())\n",
    "    fname = result_prefix + '_at_iteration_%d.png' % i\n",
    "    imsave(fname, img)\n",
    "    end_time = time.time()\n",
    "    print('Image saved as', fname)\n",
    "    print('Iteration %d completed in %ds' % (i, end_time - start_time))"
   ]
  },
  {
   "cell_type": "code",
   "execution_count": null,
   "metadata": {},
   "outputs": [],
   "source": []
  }
 ],
 "metadata": {
  "kernelspec": {
   "display_name": "Python [default]",
   "language": "python",
   "name": "python3"
  },
  "language_info": {
   "codemirror_mode": {
    "name": "ipython",
    "version": 3
   },
   "file_extension": ".py",
   "mimetype": "text/x-python",
   "name": "python",
   "nbconvert_exporter": "python",
   "pygments_lexer": "ipython3",
   "version": "3.6.4"
  }
 },
 "nbformat": 4,
 "nbformat_minor": 2
}
