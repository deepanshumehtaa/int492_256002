{
 "cells": [
  {
   "cell_type": "markdown",
   "metadata": {},
   "source": [
    "# Convolutional Neural Network for Small Data Sets"
   ]
  },
  {
   "cell_type": "markdown",
   "metadata": {},
   "source": [
    "การทดลองสร้าง convolutional neural network สำหรับจำแนกประเภทรูปภาพเป็นสองคลาส (สุนัข และ แมว)\n",
    "\n",
    "ข้อมูลแบ่งเป็นสามส่วนคือ training dataset, validation dataset, test dataset\n",
    "\n",
    "* **training dataset**. เป็นชุดข้อมูลตัวอย่างสำหรับใช้เทรนโมเดลเพื่อหาค่าโมเดลพารามิเตอร์ที่เหมาะสม\n",
    "* **validation dataset**. เป็นชุดข้อมูลสำหรับเลือกค่า hyperparameters (คือพารามิเตอร์ที่ไม่ได้มาจากการเทรน เช่น จำนวน hidden layers ที่เหมาะสม, ค่า learning rate, ...) \n",
    "* **test dataset**. เป็นชุดข้อมูลสำหรับใช้เปรียบเทียบประสิทธิภาพ (unbiased evaluation) ของโมเดลที่ได้จากการเทรน "
   ]
  },
  {
   "cell_type": "markdown",
   "metadata": {},
   "source": [
    "### Load data from a file system"
   ]
  },
  {
   "cell_type": "markdown",
   "metadata": {},
   "source": [
    "#### Set directory paths"
   ]
  },
  {
   "cell_type": "code",
   "execution_count": 1,
   "metadata": {},
   "outputs": [],
   "source": [
    "import os\n",
    "train_dir = 'data/cats_and_dogs_small/train'\n",
    "validation_dir = 'data/cats_and_dogs_small/validation'\n",
    "test_dir = 'data/cats_and_dogs_small/test'\n",
    "\n",
    "train_cats_dir = os.path.join(train_dir, 'cats')\n",
    "train_dogs_dir = os.path.join(train_dir, 'dogs')\n",
    "\n",
    "validation_cats_dir = os.path.join(validation_dir, 'cats')\n",
    "validation_dogs_dir = os.path.join(validation_dir, 'dogs')\n",
    "\n",
    "test_cats_dir = os.path.join(test_dir, 'cats')\n",
    "test_dogs_dir = os.path.join(test_dir, 'dogs')"
   ]
  },
  {
   "cell_type": "code",
   "execution_count": 2,
   "metadata": {
    "scrolled": true
   },
   "outputs": [
    {
     "name": "stdout",
     "output_type": "stream",
     "text": [
      "total train cat images: 1000\n",
      "total train dog images: 1000\n",
      "total validation cat images: 500\n",
      "total validation dog images: 500\n",
      "total test cat images: 500\n",
      "total test dog images: 500\n"
     ]
    }
   ],
   "source": [
    "print('total train cat images:', len(os.listdir(train_cats_dir)))\n",
    "print('total train dog images:', len(os.listdir(train_dogs_dir)))\n",
    "print('total validation cat images:', len(os.listdir(validation_cats_dir)))\n",
    "print('total validation dog images:', len(os.listdir(validation_dogs_dir)))\n",
    "print('total test cat images:', len(os.listdir(test_cats_dir)))\n",
    "print('total test dog images:', len(os.listdir(test_dogs_dir)))"
   ]
  },
  {
   "cell_type": "markdown",
   "metadata": {},
   "source": [
    "จากผลที่แสดงใน cell ก่อนหน้า \n",
    "* training set ประกอบด้วย รูปภาพแมว 1000 รูป และ รูปภาพสุนัข 1000 รูป \n",
    "* validation set ประกอบด้วย รูปภาพแมว 500 รูป และ รูปภาพสุนัข 500 รูป\n",
    "* test set ประกอบด้วย รูปภาพแมว 500 รูป และ รูปภาพสุนัข 500 รูป"
   ]
  },
  {
   "cell_type": "markdown",
   "metadata": {},
   "source": [
    "#### Load and Pre-process Image Data Set"
   ]
  },
  {
   "cell_type": "markdown",
   "metadata": {},
   "source": [
    "เนื่องจากข้อมูลรูปภาพมีขนาดไม่เท่ากัน ก่อนป้อนข้อมูลให้กับนิวรอนเน็ตเวิร์ก เราจำเป็นต้องแปลงข้อมูลรูปภาพในชุดข้อมูลให้อยู่ในรูปแบบและสเกลที่เหมาะสม ตรงกันทั้ง training set, validation set, และ test set ก่อน\n",
    "\n",
    "โดยจะใช้คลาส `ImageDataGenerator` ในแพ็คเกจ `keras.preprocessing.image` สำหรับ pre-process ข้อมูลด้วย operations ดังต่อไปนี้ คือ\n",
    "* **Rescale**. แปลงช่วงของค่าของข้อมูลให้อยู่ในช่วง 0.0 ถึง 1.0 โดยการหารค่าของข้อมูลทุกตัวด้วยค่าสูงสุดที่เป็นไปได้ (สำหรับข้อมูลรูปภาพ ค่าในแต่ละพิกเซล จะมีค่าตั้งแต่ 0 ถึง 255)\n",
    "* **Resize**. แปลงขนาดของรูปภาพให้มีขนาด 150x150 pixels."
   ]
  },
  {
   "cell_type": "code",
   "execution_count": 3,
   "metadata": {
    "scrolled": true
   },
   "outputs": [
    {
     "name": "stderr",
     "output_type": "stream",
     "text": [
      "Using TensorFlow backend.\n"
     ]
    },
    {
     "name": "stdout",
     "output_type": "stream",
     "text": [
      "Found 2000 images belonging to 2 classes.\n",
      "Found 1000 images belonging to 2 classes.\n",
      "Found 1000 images belonging to 2 classes.\n"
     ]
    }
   ],
   "source": [
    "from keras.preprocessing.image import ImageDataGenerator\n",
    "\n",
    "# Create ImageDataGenerator object, set rescaler with the value 1.0/255 (normalize to 0-1)\n",
    "train_datagen = ImageDataGenerator(rescale=1./255)\n",
    "validation_datagen = ImageDataGenerator(rescale=1./255)\n",
    "test_datagen = ImageDataGenerator(rescale=1./255)\n",
    "\n",
    "# Create a Generator object for training dataset\n",
    "train_generator = train_datagen.flow_from_directory(\n",
    "                train_dir,\n",
    "                target_size=(150, 150),\n",
    "                batch_size=20,\n",
    "                class_mode='binary')\n",
    "\n",
    "# Create a Generator object for validation dataset\n",
    "validation_generator = validation_datagen.flow_from_directory(\n",
    "                validation_dir,\n",
    "                target_size=(150, 150),\n",
    "                batch_size=20,\n",
    "                class_mode='binary')\n",
    "\n",
    "# Create a Generator object for test dataset\n",
    "test_generator = test_datagen.flow_from_directory(\n",
    "                test_dir,\n",
    "                target_size=(150, 150),\n",
    "                batch_size=20,\n",
    "                class_mode='binary')"
   ]
  },
  {
   "cell_type": "code",
   "execution_count": 4,
   "metadata": {},
   "outputs": [
    {
     "name": "stdout",
     "output_type": "stream",
     "text": [
      "data batch shape: (20, 150, 150, 3)\n",
      "labels batch shape: (20,)\n"
     ]
    }
   ],
   "source": [
    "# check shape of images in the training set \n",
    "#### XXX: You need PIL library to run this code\n",
    "#### run the following command to install PIL\n",
    "#### $ pip install pillow\n",
    "for data_batch, labels_batch in train_generator:\n",
    "    print('data batch shape:', data_batch.shape)\n",
    "    print('labels batch shape:', labels_batch.shape)\n",
    "    break"
   ]
  },
  {
   "cell_type": "markdown",
   "metadata": {},
   "source": [
    "### Build model"
   ]
  },
  {
   "cell_type": "markdown",
   "metadata": {},
   "source": [
    "กำหนดโครงสร้างของ convnet โดยโมเดลของเราจะประกอบด้วยเลเยอร์ต่างๆ ดังนี้\n",
    "\n",
    "1. Convolutional Layer ลำดับที่ 1. ประกอบด้วย ReLU filters ขนาด 3x3 จำนวน 32 ฟิลเตอร์, อินพุทของเลเยอร์นี้คือ ข้อมูลรูปภาพสีขนาด 150x150x3, เอาท์พุทมีมิติ 148x148x32\n",
    "2. Max Pooling Layer ลำดับที่ 1. ประกอบด้วย ReLU filters ขนาด 2x2 จำนวน 32 ฟิลเตอร์, เอาท์พุทมีมิติ 74x74x32\n",
    "3. Convolutional Layer ลำดับที่ 2. ประกอบด้วย filters ขนาด 3x3x32 จำนวน 64 ฟิลเตอร์, เอาท์พุทมีมิติ 72x72x64\n",
    "4. Max Pooling Layer ลำดับที่ 2. ประกอบด้วย filters ขนาด 2x2 จำนวน 64 ฟิลเตอร์, เอาท์พุทมีมิติ 36x36x64\n",
    "5. Convolutional Layer ลำดับที่ 3. ประกอบด้วย filters ขนาด 3x3x64 จำนวน 128 ฟิลเตอร์, เอาท์พุทมีมิติ 34x34x128\n",
    "6. Max Pooling Layer ลำดับที่ 3. ประกอบด้วย filters ขนาด 2x2 จำนวน 128 ฟิลเตอร์, เอาท์พุทมีมิติ 17x17x128\n",
    "7. Convolutional Layer ลำดับที่ 4. ประกอบด้วย filters ขนาด 3x3x128 จำนวน 128 ฟิลเตอร์, เอาท์พุทมีมิติ 15x15x128\n",
    "8. Max Pooling Layer ลำดับที่ 4. ประกอบด้วย filters ขนาด 2x2 จำนวน 128 ฟิลเตอร์, เอาท์พุทมีมิติ 7x7x128\n",
    "9. Flatten Layer. แปลงข้อมูลอินพุทขนาด 7x7x128 เป็น 6272x1\n",
    "10. Dense Layer ลำดับที่ 1. นิวรอนชนิด ReLU จำนวน 512 เชื่อมต่อกับเลเยอร์ก่อนหน้าและเลเยอร์ถัดไปแบบ fully connected\n",
    "11. Output Layer. ประกอบด้วยนิวรอนขนิด sigmoid จำนวน 1 นิวรอน"
   ]
  },
  {
   "cell_type": "code",
   "execution_count": 5,
   "metadata": {},
   "outputs": [
    {
     "name": "stdout",
     "output_type": "stream",
     "text": [
      "_________________________________________________________________\n",
      "Layer (type)                 Output Shape              Param #   \n",
      "=================================================================\n",
      "conv2d_1 (Conv2D)            (None, 148, 148, 32)      896       \n",
      "_________________________________________________________________\n",
      "max_pooling2d_1 (MaxPooling2 (None, 74, 74, 32)        0         \n",
      "_________________________________________________________________\n",
      "conv2d_2 (Conv2D)            (None, 72, 72, 64)        18496     \n",
      "_________________________________________________________________\n",
      "max_pooling2d_2 (MaxPooling2 (None, 36, 36, 64)        0         \n",
      "_________________________________________________________________\n",
      "conv2d_3 (Conv2D)            (None, 34, 34, 128)       73856     \n",
      "_________________________________________________________________\n",
      "max_pooling2d_3 (MaxPooling2 (None, 17, 17, 128)       0         \n",
      "_________________________________________________________________\n",
      "conv2d_4 (Conv2D)            (None, 15, 15, 128)       147584    \n",
      "_________________________________________________________________\n",
      "max_pooling2d_4 (MaxPooling2 (None, 7, 7, 128)         0         \n",
      "_________________________________________________________________\n",
      "flatten_1 (Flatten)          (None, 6272)              0         \n",
      "_________________________________________________________________\n",
      "dense_1 (Dense)              (None, 512)               3211776   \n",
      "_________________________________________________________________\n",
      "dense_2 (Dense)              (None, 1)                 513       \n",
      "=================================================================\n",
      "Total params: 3,453,121\n",
      "Trainable params: 3,453,121\n",
      "Non-trainable params: 0\n",
      "_________________________________________________________________\n"
     ]
    }
   ],
   "source": [
    "from keras import layers\n",
    "from keras import models\n",
    "\n",
    "model = models.Sequential()\n",
    "model.add(layers.Conv2D(32, (3, 3), activation='relu', \n",
    "                        input_shape=(150, 150, 3)))\n",
    "model.add(layers.MaxPool2D((2, 2)))\n",
    "model.add(layers.Conv2D(64, (3, 3), activation='relu'))\n",
    "model.add(layers.MaxPool2D((2, 2)))\n",
    "model.add(layers.Conv2D(128,(3, 3), activation='relu'))\n",
    "model.add(layers.MaxPool2D((2, 2)))\n",
    "model.add(layers.Conv2D(128,(3, 3), activation='relu'))\n",
    "model.add(layers.MaxPool2D((2, 2)))\n",
    "model.add(layers.Flatten())\n",
    "model.add(layers.Dense(512, activation='relu'))\n",
    "model.add(layers.Dense(1, activation='sigmoid'))\n",
    "\n",
    "model.summary()"
   ]
  },
  {
   "cell_type": "markdown",
   "metadata": {},
   "source": [
    "### Train Model"
   ]
  },
  {
   "cell_type": "markdown",
   "metadata": {},
   "source": [
    "เทรนโมเดล โดยกำหนด loss function เป็น binary crossentropy, ใช้ optimizer เป็น RMSprop สำหรับวิธีการวัดประสิทธิภาพโมเดลใช้ accuracy."
   ]
  },
  {
   "cell_type": "code",
   "execution_count": 6,
   "metadata": {},
   "outputs": [],
   "source": [
    "from keras import optimizers\n",
    "\n",
    "model.compile(loss='binary_crossentropy',\n",
    "              optimizer=optimizers.RMSprop(lr=1e-4),\n",
    "              metrics=['acc'])"
   ]
  },
  {
   "cell_type": "code",
   "execution_count": 7,
   "metadata": {},
   "outputs": [
    {
     "name": "stdout",
     "output_type": "stream",
     "text": [
      "Epoch 1/100\n",
      "100/100 [==============================] - 158s 2s/step - loss: 0.6927 - acc: 0.5260 - val_loss: 0.6786 - val_acc: 0.5600\n",
      "Epoch 2/100\n",
      "100/100 [==============================] - 171s 2s/step - loss: 0.6626 - acc: 0.6110 - val_loss: 0.6352 - val_acc: 0.6560\n",
      "Epoch 3/100\n",
      "100/100 [==============================] - 168s 2s/step - loss: 0.6145 - acc: 0.6740 - val_loss: 0.6805 - val_acc: 0.5950\n",
      "Epoch 4/100\n",
      "100/100 [==============================] - 171s 2s/step - loss: 0.5662 - acc: 0.7085 - val_loss: 0.6099 - val_acc: 0.6560\n",
      "Epoch 5/100\n",
      "100/100 [==============================] - 170s 2s/step - loss: 0.5324 - acc: 0.7415 - val_loss: 0.5772 - val_acc: 0.6890\n",
      "Epoch 6/100\n",
      "100/100 [==============================] - 172s 2s/step - loss: 0.5040 - acc: 0.7480 - val_loss: 0.5919 - val_acc: 0.6800\n",
      "Epoch 7/100\n",
      "100/100 [==============================] - 172s 2s/step - loss: 0.4759 - acc: 0.7705 - val_loss: 0.5650 - val_acc: 0.7000\n",
      "Epoch 8/100\n",
      "100/100 [==============================] - 172s 2s/step - loss: 0.4489 - acc: 0.7880 - val_loss: 0.5590 - val_acc: 0.7040\n",
      "Epoch 9/100\n",
      "100/100 [==============================] - 172s 2s/step - loss: 0.4134 - acc: 0.8190 - val_loss: 0.5595 - val_acc: 0.7130\n",
      "Epoch 10/100\n",
      "100/100 [==============================] - 171s 2s/step - loss: 0.3841 - acc: 0.8295 - val_loss: 0.5769 - val_acc: 0.7140\n",
      "Epoch 11/100\n",
      "100/100 [==============================] - 171s 2s/step - loss: 0.3606 - acc: 0.8410 - val_loss: 0.5527 - val_acc: 0.7230\n",
      "Epoch 12/100\n",
      "100/100 [==============================] - 171s 2s/step - loss: 0.3364 - acc: 0.8615 - val_loss: 0.5972 - val_acc: 0.7260\n",
      "Epoch 13/100\n",
      "100/100 [==============================] - 172s 2s/step - loss: 0.3086 - acc: 0.8715 - val_loss: 0.5697 - val_acc: 0.7330\n",
      "Epoch 14/100\n",
      "100/100 [==============================] - 171s 2s/step - loss: 0.2838 - acc: 0.8835 - val_loss: 0.6061 - val_acc: 0.7240\n",
      "Epoch 15/100\n",
      "100/100 [==============================] - 171s 2s/step - loss: 0.2627 - acc: 0.8870 - val_loss: 0.6060 - val_acc: 0.7290\n",
      "Epoch 16/100\n",
      "100/100 [==============================] - 171s 2s/step - loss: 0.2365 - acc: 0.9085 - val_loss: 0.6883 - val_acc: 0.7230\n",
      "Epoch 17/100\n",
      "100/100 [==============================] - 171s 2s/step - loss: 0.2150 - acc: 0.9230 - val_loss: 0.6723 - val_acc: 0.7350\n",
      "Epoch 18/100\n",
      "100/100 [==============================] - 172s 2s/step - loss: 0.1874 - acc: 0.9315 - val_loss: 0.6664 - val_acc: 0.7260\n",
      "Epoch 19/100\n",
      "100/100 [==============================] - 172s 2s/step - loss: 0.1687 - acc: 0.9435 - val_loss: 0.7386 - val_acc: 0.7160\n",
      "Epoch 20/100\n",
      "100/100 [==============================] - 172s 2s/step - loss: 0.1469 - acc: 0.9460 - val_loss: 0.7291 - val_acc: 0.7290\n",
      "Epoch 21/100\n",
      "100/100 [==============================] - 172s 2s/step - loss: 0.1306 - acc: 0.9585 - val_loss: 0.7464 - val_acc: 0.7370\n",
      "Epoch 22/100\n",
      "100/100 [==============================] - 173s 2s/step - loss: 0.1199 - acc: 0.9565 - val_loss: 0.7561 - val_acc: 0.7320\n",
      "Epoch 23/100\n",
      "100/100 [==============================] - 172s 2s/step - loss: 0.0984 - acc: 0.9715 - val_loss: 0.9189 - val_acc: 0.7240\n",
      "Epoch 24/100\n",
      "100/100 [==============================] - 171s 2s/step - loss: 0.0950 - acc: 0.9695 - val_loss: 0.9973 - val_acc: 0.6850\n",
      "Epoch 25/100\n",
      "100/100 [==============================] - 171s 2s/step - loss: 0.0774 - acc: 0.9780 - val_loss: 0.9775 - val_acc: 0.7100\n",
      "Epoch 26/100\n",
      "100/100 [==============================] - 171s 2s/step - loss: 0.0628 - acc: 0.9825 - val_loss: 0.9266 - val_acc: 0.7100\n",
      "Epoch 27/100\n",
      "100/100 [==============================] - 171s 2s/step - loss: 0.0556 - acc: 0.9850 - val_loss: 1.0130 - val_acc: 0.7190\n",
      "Epoch 28/100\n",
      "100/100 [==============================] - 171s 2s/step - loss: 0.0442 - acc: 0.9880 - val_loss: 1.2083 - val_acc: 0.6980\n",
      "Epoch 29/100\n",
      "100/100 [==============================] - 172s 2s/step - loss: 0.0405 - acc: 0.9895 - val_loss: 1.0867 - val_acc: 0.7250\n",
      "Epoch 30/100\n",
      "100/100 [==============================] - 172s 2s/step - loss: 0.0354 - acc: 0.9910 - val_loss: 1.1589 - val_acc: 0.7250\n",
      "Epoch 31/100\n",
      "100/100 [==============================] - 173s 2s/step - loss: 0.0292 - acc: 0.9920 - val_loss: 1.2212 - val_acc: 0.6970\n",
      "Epoch 32/100\n",
      "100/100 [==============================] - 174s 2s/step - loss: 0.0315 - acc: 0.9905 - val_loss: 1.1937 - val_acc: 0.7130\n",
      "Epoch 33/100\n",
      "100/100 [==============================] - 173s 2s/step - loss: 0.0236 - acc: 0.9950 - val_loss: 1.2497 - val_acc: 0.7020\n",
      "Epoch 34/100\n",
      "100/100 [==============================] - 172s 2s/step - loss: 0.0261 - acc: 0.9915 - val_loss: 1.3020 - val_acc: 0.7250\n",
      "Epoch 35/100\n",
      "100/100 [==============================] - 173s 2s/step - loss: 0.0227 - acc: 0.9925 - val_loss: 1.3296 - val_acc: 0.7290\n",
      "Epoch 36/100\n",
      "100/100 [==============================] - 174s 2s/step - loss: 0.0153 - acc: 0.9960 - val_loss: 1.3875 - val_acc: 0.7050\n",
      "Epoch 37/100\n",
      "100/100 [==============================] - 174s 2s/step - loss: 0.0180 - acc: 0.9930 - val_loss: 1.4267 - val_acc: 0.7250\n",
      "Epoch 38/100\n",
      "100/100 [==============================] - 172s 2s/step - loss: 0.0133 - acc: 0.9960 - val_loss: 1.4760 - val_acc: 0.7140\n",
      "Epoch 40/100\n",
      "100/100 [==============================] - 174s 2s/step - loss: 0.0186 - acc: 0.9965 - val_loss: 1.4944 - val_acc: 0.7190\n",
      "Epoch 41/100\n",
      "100/100 [==============================] - 172s 2s/step - loss: 0.0102 - acc: 0.9970 - val_loss: 1.5309 - val_acc: 0.7200\n",
      "Epoch 42/100\n",
      "100/100 [==============================] - 171s 2s/step - loss: 0.0109 - acc: 0.9970 - val_loss: 1.6584 - val_acc: 0.7100\n",
      "Epoch 43/100\n",
      "100/100 [==============================] - 173s 2s/step - loss: 0.0179 - acc: 0.9930 - val_loss: 1.6676 - val_acc: 0.7230\n",
      "Epoch 44/100\n",
      "100/100 [==============================] - 171s 2s/step - loss: 0.0035 - acc: 0.9990 - val_loss: 1.6409 - val_acc: 0.7270\n",
      "Epoch 45/100\n",
      "100/100 [==============================] - 173s 2s/step - loss: 0.0176 - acc: 0.9965 - val_loss: 1.6840 - val_acc: 0.7140\n",
      "Epoch 46/100\n",
      "100/100 [==============================] - 172s 2s/step - loss: 0.0140 - acc: 0.9945 - val_loss: 1.7564 - val_acc: 0.7250\n",
      "Epoch 47/100\n",
      "100/100 [==============================] - 172s 2s/step - loss: 0.0027 - acc: 0.9995 - val_loss: 1.6831 - val_acc: 0.7240\n",
      "Epoch 48/100\n",
      "100/100 [==============================] - 172s 2s/step - loss: 0.0102 - acc: 0.9960 - val_loss: 1.7086 - val_acc: 0.7020\n",
      "Epoch 49/100\n",
      "100/100 [==============================] - 172s 2s/step - loss: 0.0056 - acc: 0.9980 - val_loss: 1.7600 - val_acc: 0.7120\n",
      "Epoch 50/100\n",
      "100/100 [==============================] - 172s 2s/step - loss: 0.0063 - acc: 0.9975 - val_loss: 1.9576 - val_acc: 0.6970\n",
      "Epoch 51/100\n",
      "100/100 [==============================] - 175s 2s/step - loss: 0.0098 - acc: 0.9975 - val_loss: 1.8659 - val_acc: 0.7100\n",
      "Epoch 52/100\n",
      "100/100 [==============================] - 173s 2s/step - loss: 0.0099 - acc: 0.9975 - val_loss: 1.8412 - val_acc: 0.7160\n",
      "Epoch 53/100\n",
      "100/100 [==============================] - 174s 2s/step - loss: 0.0114 - acc: 0.9980 - val_loss: 1.7563 - val_acc: 0.7210\n",
      "Epoch 54/100\n",
      "100/100 [==============================] - 174s 2s/step - loss: 0.0051 - acc: 0.9985 - val_loss: 2.0605 - val_acc: 0.7220\n",
      "Epoch 55/100\n",
      "100/100 [==============================] - 175s 2s/step - loss: 0.0070 - acc: 0.9980 - val_loss: 1.9677 - val_acc: 0.7200\n",
      "Epoch 56/100\n",
      "100/100 [==============================] - 173s 2s/step - loss: 0.0042 - acc: 0.9985 - val_loss: 2.0454 - val_acc: 0.7060\n",
      "Epoch 57/100\n",
      "100/100 [==============================] - 172s 2s/step - loss: 0.0076 - acc: 0.9975 - val_loss: 2.0322 - val_acc: 0.7160\n",
      "Epoch 59/100\n",
      "100/100 [==============================] - 173s 2s/step - loss: 0.0043 - acc: 0.9975 - val_loss: 2.0956 - val_acc: 0.7220\n",
      "Epoch 60/100\n",
      "100/100 [==============================] - 173s 2s/step - loss: 0.0054 - acc: 0.9985 - val_loss: 2.1794 - val_acc: 0.7240\n",
      "Epoch 61/100\n",
      "100/100 [==============================] - 173s 2s/step - loss: 0.0173 - acc: 0.9955 - val_loss: 2.1176 - val_acc: 0.7030\n",
      "Epoch 62/100\n",
      "100/100 [==============================] - 173s 2s/step - loss: 0.0039 - acc: 0.9985 - val_loss: 2.0351 - val_acc: 0.7180\n",
      "Epoch 63/100\n",
      "100/100 [==============================] - 172s 2s/step - loss: 0.0098 - acc: 0.9960 - val_loss: 1.9955 - val_acc: 0.7040\n"
     ]
    },
    {
     "name": "stdout",
     "output_type": "stream",
     "text": [
      "Epoch 64/100\n",
      "100/100 [==============================] - 173s 2s/step - loss: 0.0024 - acc: 0.9990 - val_loss: 2.0585 - val_acc: 0.7230\n",
      "Epoch 65/100\n",
      "100/100 [==============================] - 172s 2s/step - loss: 0.0104 - acc: 0.9965 - val_loss: 2.1184 - val_acc: 0.7240\n",
      "Epoch 66/100\n",
      "100/100 [==============================] - 172s 2s/step - loss: 0.0131 - acc: 0.9960 - val_loss: 2.1537 - val_acc: 0.7060\n",
      "Epoch 67/100\n",
      "100/100 [==============================] - 172s 2s/step - loss: 0.0085 - acc: 0.9980 - val_loss: 2.2139 - val_acc: 0.7160\n",
      "Epoch 68/100\n",
      "100/100 [==============================] - 174s 2s/step - loss: 7.6489e-04 - acc: 1.0000 - val_loss: 2.0958 - val_acc: 0.7260\n",
      "Epoch 69/100\n",
      "100/100 [==============================] - 173s 2s/step - loss: 0.0153 - acc: 0.9955 - val_loss: 2.0000 - val_acc: 0.7070\n",
      "Epoch 70/100\n",
      "100/100 [==============================] - 173s 2s/step - loss: 0.0035 - acc: 0.9985 - val_loss: 2.0596 - val_acc: 0.7140\n",
      "Epoch 71/100\n",
      "100/100 [==============================] - 173s 2s/step - loss: 0.0159 - acc: 0.9965 - val_loss: 2.1008 - val_acc: 0.7090\n",
      "Epoch 72/100\n",
      "100/100 [==============================] - 174s 2s/step - loss: 0.0160 - acc: 0.9975 - val_loss: 2.0524 - val_acc: 0.7170\n",
      "Epoch 73/100\n",
      "100/100 [==============================] - 173s 2s/step - loss: 0.0040 - acc: 0.9980 - val_loss: 2.0893 - val_acc: 0.7200\n",
      "Epoch 74/100\n",
      "100/100 [==============================] - 171s 2s/step - loss: 7.8562e-04 - acc: 0.9995 - val_loss: 2.2971 - val_acc: 0.7010\n",
      "Epoch 76/100\n",
      "100/100 [==============================] - 173s 2s/step - loss: 0.0078 - acc: 0.9985 - val_loss: 2.0935 - val_acc: 0.7250\n",
      "Epoch 77/100\n",
      "100/100 [==============================] - 173s 2s/step - loss: 0.0104 - acc: 0.9980 - val_loss: 2.1205 - val_acc: 0.7310\n",
      "Epoch 78/100\n",
      "100/100 [==============================] - 172s 2s/step - loss: 9.6882e-05 - acc: 1.0000 - val_loss: 2.2341 - val_acc: 0.7260\n",
      "Epoch 79/100\n",
      "100/100 [==============================] - 172s 2s/step - loss: 0.0126 - acc: 0.9980 - val_loss: 2.2119 - val_acc: 0.7080\n",
      "Epoch 80/100\n",
      "100/100 [==============================] - 173s 2s/step - loss: 7.4506e-04 - acc: 0.9995 - val_loss: 2.6540 - val_acc: 0.7130\n",
      "Epoch 81/100\n",
      "100/100 [==============================] - 172s 2s/step - loss: 0.0080 - acc: 0.9990 - val_loss: 2.1932 - val_acc: 0.7220\n",
      "Epoch 82/100\n",
      "100/100 [==============================] - 173s 2s/step - loss: 0.0058 - acc: 0.9985 - val_loss: 2.3047 - val_acc: 0.7280\n",
      "Epoch 83/100\n",
      "100/100 [==============================] - 176s 2s/step - loss: 0.0090 - acc: 0.9975 - val_loss: 2.2204 - val_acc: 0.7220\n",
      "Epoch 84/100\n",
      "100/100 [==============================] - 175s 2s/step - loss: 0.0072 - acc: 0.9980 - val_loss: 2.2506 - val_acc: 0.7110\n",
      "Epoch 85/100\n",
      "100/100 [==============================] - 175s 2s/step - loss: 0.0062 - acc: 0.9970 - val_loss: 2.3524 - val_acc: 0.7030\n",
      "Epoch 86/100\n",
      "100/100 [==============================] - 175s 2s/step - loss: 0.0069 - acc: 0.9975 - val_loss: 2.2607 - val_acc: 0.7150\n",
      "Epoch 87/100\n",
      "100/100 [==============================] - 174s 2s/step - loss: 0.0026 - acc: 0.9995 - val_loss: 2.3256 - val_acc: 0.7250\n",
      "Epoch 88/100\n",
      "100/100 [==============================] - 173s 2s/step - loss: 0.0061 - acc: 0.9980 - val_loss: 2.3946 - val_acc: 0.7130\n",
      "Epoch 89/100\n",
      "100/100 [==============================] - 173s 2s/step - loss: 0.0114 - acc: 0.9970 - val_loss: 2.5435 - val_acc: 0.6860\n",
      "Epoch 90/100\n",
      "100/100 [==============================] - 174s 2s/step - loss: 8.3095e-04 - acc: 0.9995 - val_loss: 2.3708 - val_acc: 0.7180\n",
      "Epoch 91/100\n",
      "100/100 [==============================] - 175s 2s/step - loss: 0.0038 - acc: 0.9980 - val_loss: 2.4894 - val_acc: 0.7050\n",
      "Epoch 92/100\n",
      "100/100 [==============================] - 173s 2s/step - loss: 9.5203e-05 - acc: 1.0000 - val_loss: 2.4623 - val_acc: 0.7160\n",
      "Epoch 93/100\n",
      "100/100 [==============================] - 172s 2s/step - loss: 0.0095 - acc: 0.9975 - val_loss: 2.3866 - val_acc: 0.7170\n",
      "Epoch 94/100\n",
      "100/100 [==============================] - 174s 2s/step - loss: 0.0015 - acc: 0.9990 - val_loss: 2.5518 - val_acc: 0.7150\n",
      "Epoch 95/100\n",
      "100/100 [==============================] - 173s 2s/step - loss: 0.0093 - acc: 0.9985 - val_loss: 2.5895 - val_acc: 0.7120\n",
      "Epoch 96/100\n",
      "100/100 [==============================] - 174s 2s/step - loss: 0.0044 - acc: 0.9980 - val_loss: 2.4789 - val_acc: 0.7130\n",
      "Epoch 97/100\n",
      "100/100 [==============================] - 171s 2s/step - loss: 0.0084 - acc: 0.9970 - val_loss: 2.4082 - val_acc: 0.7240\n",
      "Epoch 99/100\n",
      "100/100 [==============================] - 172s 2s/step - loss: 0.0028 - acc: 0.9995 - val_loss: 2.3514 - val_acc: 0.7240\n",
      "Epoch 100/100\n",
      "100/100 [==============================] - 170s 2s/step - loss: 0.0053 - acc: 0.9980 - val_loss: 2.6294 - val_acc: 0.7140\n"
     ]
    }
   ],
   "source": [
    "history = model.fit_generator(\n",
    "            train_generator, steps_per_epoch=100, \n",
    "            epochs=100,\n",
    "            validation_data=validation_generator,\n",
    "            validation_steps=50)"
   ]
  },
  {
   "cell_type": "markdown",
   "metadata": {},
   "source": [
    "#### Save Model for Later use"
   ]
  },
  {
   "cell_type": "code",
   "execution_count": 22,
   "metadata": {},
   "outputs": [],
   "source": [
    "# reload models after installing h5py\n",
    "from importlib import reload\n",
    "reload(models)\n",
    "\n",
    "modelFilePath = 'cats_and_dogs_smallcnn.h5' \n",
    "# save model\n",
    "model.save(modelFilePath)"
   ]
  },
  {
   "cell_type": "markdown",
   "metadata": {},
   "source": [
    "#### แสดงกราฟ Training Accuracy และ Validation Accuracy ในแต่ละรอบของการเทรนโมเดล"
   ]
  },
  {
   "cell_type": "code",
   "execution_count": 12,
   "metadata": {
    "scrolled": true
   },
   "outputs": [
    {
     "data": {
      "image/png": "[encoded data removed]",
      "text/plain": [
       "<matplotlib.figure.Figure at 0x7f582abd9fd0>"
      ]
     },
     "metadata": {},
     "output_type": "display_data"
    },
    {
     "data": {
      "image/png": "[encoded data removed]",
      "text/plain": [
       "<matplotlib.figure.Figure at 0x7f582ac3e908>"
      ]
     },
     "metadata": {},
     "output_type": "display_data"
    }
   ],
   "source": [
    "import matplotlib.pyplot as plt\n",
    "%matplotlib inline\n",
    "\n",
    "acc = history.history['acc']\n",
    "val_acc = history.history['val_acc']\n",
    "loss = history.history['loss']\n",
    "val_loss = history.history['val_loss']\n",
    "\n",
    "epochs = range(1, len(acc) + 1)\n",
    "\n",
    "plt.plot(epochs, acc, 'bo', label='Training acc')\n",
    "plt.plot(epochs, val_acc, 'b', label='Validation acc')\n",
    "plt.title('Training and Validation Accuracy')\n",
    "plt.legend()\n",
    "\n",
    "plt.figure()\n",
    "\n",
    "plt.plot(epochs, loss, 'bo', label='Training loss')\n",
    "plt.plot(epochs, val_loss, 'b', label='Validation loss')\n",
    "plt.title('Training and Validation Loss')\n",
    "plt.legend()\n",
    "\n",
    "plt.show()"
   ]
  },
  {
   "cell_type": "markdown",
   "metadata": {},
   "source": [
    "#### Load Saved Model"
   ]
  },
  {
   "cell_type": "code",
   "execution_count": 25,
   "metadata": {},
   "outputs": [
    {
     "name": "stdout",
     "output_type": "stream",
     "text": [
      "test accuracy:  0.7029999977350235\n"
     ]
    }
   ],
   "source": [
    "from keras.models import load_model\n",
    "\n",
    "savedModel = load_model(modelFilePath)\n",
    "(test_loss, test_acc) = savedModel.evaluate_generator(test_generator, steps=50)\n",
    "print('test accuracy: ', test_acc)"
   ]
  }
 ],
 "metadata": {
  "kernelspec": {
   "display_name": "Python 3",
   "language": "python",
   "name": "python3"
  },
  "language_info": {
   "codemirror_mode": {
    "name": "ipython",
    "version": 3
   },
   "file_extension": ".py",
   "mimetype": "text/x-python",
   "name": "python",
   "nbconvert_exporter": "python",
   "pygments_lexer": "ipython3",
   "version": "3.5.4"
  }
 },
 "nbformat": 4,
 "nbformat_minor": 2
}
