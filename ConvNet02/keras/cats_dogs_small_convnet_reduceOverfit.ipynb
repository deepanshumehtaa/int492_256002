{
 "cells": [
  {
   "cell_type": "markdown",
   "metadata": {},
   "source": [
    "# แก้ปัญหา Overfit ที่พบใน Convolutional Neural Network for Small Data Sets"
   ]
  },
  {
   "cell_type": "markdown",
   "metadata": {},
   "source": [
    "ในการทดลองสร้าง convolutional neural network สำหรับจำแนกประเภทรูปภาพเป็นสองคลาส (สุนัข และ แมว) ตามตัวอย่างก่อนหน้า พบว่าโมเดล overfit กับ training dataset (สังเกตได้จากการที่ ค่า accuracy ที่วัดบน training set มีแนวโน้มสูงขึ้น, แต่ค่า accuracy ที่วัดด้วย validation set กลับมีค่าคงที่หรือลดลง)\n",
    "\n",
    "การแก้ปัญหา overfit มีหลายวิธีการ เช่น regularization, early stopping, dropout, และ data augmentation.\n",
    "ในตัวอย่างนี้จะแสดงวิธีการแก้ปัญหา overfit ที่เกิดกับ convnet สำหรับจำแนกประเภทรูปภาพแมวและสุนัข โดยใช้ **DropoutLayer และ Data augmentation**."
   ]
  },
  {
   "cell_type": "markdown",
   "metadata": {},
   "source": [
    "### Load data from a file system"
   ]
  },
  {
   "cell_type": "markdown",
   "metadata": {},
   "source": [
    "#### Set directory paths"
   ]
  },
  {
   "cell_type": "code",
   "execution_count": 1,
   "metadata": {},
   "outputs": [],
   "source": [
    "import os\n",
    "train_dir = 'data/cats_and_dogs_small/train'\n",
    "validation_dir = 'data/cats_and_dogs_small/validation'\n",
    "test_dir = 'data/cats_and_dogs_small/test'\n",
    "\n",
    "train_cats_dir = os.path.join(train_dir, 'cats')\n",
    "train_dogs_dir = os.path.join(train_dir, 'dogs')\n",
    "\n",
    "validation_cats_dir = os.path.join(validation_dir, 'cats')\n",
    "validation_dogs_dir = os.path.join(validation_dir, 'dogs')\n",
    "\n",
    "test_cats_dir = os.path.join(test_dir, 'cats')\n",
    "test_dogs_dir = os.path.join(test_dir, 'dogs')"
   ]
  },
  {
   "cell_type": "code",
   "execution_count": 2,
   "metadata": {
    "scrolled": true
   },
   "outputs": [
    {
     "name": "stdout",
     "output_type": "stream",
     "text": [
      "total train cat images: 1000\n",
      "total train dog images: 1000\n",
      "total validation cat images: 500\n",
      "total validation dog images: 500\n",
      "total test cat images: 500\n",
      "total test dog images: 500\n"
     ]
    }
   ],
   "source": [
    "print('total train cat images:', len(os.listdir(train_cats_dir)))\n",
    "print('total train dog images:', len(os.listdir(train_dogs_dir)))\n",
    "print('total validation cat images:', len(os.listdir(validation_cats_dir)))\n",
    "print('total validation dog images:', len(os.listdir(validation_dogs_dir)))\n",
    "print('total test cat images:', len(os.listdir(test_cats_dir)))\n",
    "print('total test dog images:', len(os.listdir(test_dogs_dir)))"
   ]
  },
  {
   "cell_type": "markdown",
   "metadata": {},
   "source": [
    "จากผลที่แสดงใน cell ก่อนหน้า \n",
    "* training set ประกอบด้วย รูปภาพแมว 1000 รูป และ รูปภาพสุนัข 1000 รูป \n",
    "* validation set ประกอบด้วย รูปภาพแมว 500 รูป และ รูปภาพสุนัข 500 รูป\n",
    "* test set ประกอบด้วย รูปภาพแมว 500 รูป และ รูปภาพสุนัข 500 รูป"
   ]
  },
  {
   "cell_type": "markdown",
   "metadata": {},
   "source": [
    "#### Load and Pre-process Image Data Set"
   ]
  },
  {
   "cell_type": "markdown",
   "metadata": {},
   "source": [
    "เนื่องจากข้อมูลรูปภาพมีขนาดไม่เท่ากัน ก่อนป้อนข้อมูลให้กับนิวรอนเน็ตเวิร์ก เราจำเป็นต้องแปลงข้อมูลรูปภาพในชุดข้อมูลให้อยู่ในรูปแบบและสเกลที่เหมาะสม ตรงกันทั้ง training set, validation set, และ test set ก่อน\n",
    "\n",
    "โดยจะใช้คลาส `ImageDataGenerator` ในแพ็คเกจ `keras.preprocessing.image` สำหรับ pre-process ข้อมูลด้วย operations ดังต่อไปนี้ คือ\n",
    "* **Rescale**. แปลงช่วงของค่าของข้อมูลให้อยู่ในช่วง 0.0 ถึง 1.0 โดยการหารค่าของข้อมูลทุกตัวด้วยค่าสูงสุดที่เป็นไปได้ (สำหรับข้อมูลรูปภาพ ค่าในแต่ละพิกเซล จะมีค่าตั้งแต่ 0 ถึง 255)\n",
    "* **Resize**. แปลงขนาดของรูปภาพให้มีขนาด 150x150 pixels."
   ]
  },
  {
   "cell_type": "code",
   "execution_count": 5,
   "metadata": {
    "scrolled": true
   },
   "outputs": [
    {
     "name": "stdout",
     "output_type": "stream",
     "text": [
      "Found 2000 images belonging to 2 classes.\n",
      "Found 1000 images belonging to 2 classes.\n",
      "Found 1000 images belonging to 2 classes.\n"
     ]
    }
   ],
   "source": [
    "from keras.preprocessing.image import ImageDataGenerator\n",
    "\n",
    "### Data augmentation for training set ###\n",
    "# rotation by 40-degree\n",
    "# shift horizontally and vertically\n",
    "# shear\n",
    "# zoom\n",
    "# flip\n",
    "train_datagen = ImageDataGenerator(rescale=1./255,    \n",
    "                                   rotation_range=40,\n",
    "                                   width_shift_range=0.2,\n",
    "                                   height_shift_range=0.2, \n",
    "                                   shear_range=0.2,\n",
    "                                   zoom_range=0.2,\n",
    "                                   horizontal_flip=True,)\n",
    "\n",
    "validation_datagen = ImageDataGenerator(rescale=1./255)\n",
    "test_datagen = ImageDataGenerator(rescale=1./255)\n",
    "\n",
    "# Create a Generator object for training dataset\n",
    "train_generator = train_datagen.flow_from_directory(\n",
    "                train_dir,\n",
    "                target_size=(150, 150),\n",
    "                batch_size=20,\n",
    "                class_mode='binary')\n",
    "\n",
    "# Create a Generator object for validation dataset\n",
    "validation_generator = validation_datagen.flow_from_directory(\n",
    "                validation_dir,\n",
    "                target_size=(150, 150),\n",
    "                batch_size=20,\n",
    "                class_mode='binary')\n",
    "\n",
    "# Create a Generator object for test dataset\n",
    "test_generator = test_datagen.flow_from_directory(\n",
    "                test_dir,\n",
    "                target_size=(150, 150),\n",
    "                batch_size=20,\n",
    "                class_mode='binary')"
   ]
  },
  {
   "cell_type": "code",
   "execution_count": 6,
   "metadata": {},
   "outputs": [
    {
     "name": "stdout",
     "output_type": "stream",
     "text": [
      "data batch shape: (20, 150, 150, 3)\n",
      "labels batch shape: (20,)\n"
     ]
    }
   ],
   "source": [
    "# check shape of images in the training set \n",
    "#### XXX: You need PIL library to run this code\n",
    "#### run the following command to install PIL\n",
    "#### $ pip install pillow\n",
    "for data_batch, labels_batch in train_generator:\n",
    "    print('data batch shape:', data_batch.shape)\n",
    "    print('labels batch shape:', labels_batch.shape)\n",
    "    break"
   ]
  },
  {
   "cell_type": "markdown",
   "metadata": {},
   "source": [
    "### Build model"
   ]
  },
  {
   "cell_type": "markdown",
   "metadata": {},
   "source": [
    "กำหนดโครงสร้างของ convnet โดยโมเดลของเราจะประกอบด้วยเลเยอร์ต่างๆ ดังนี้\n",
    "\n",
    "1. Convolutional Layer ลำดับที่ 1. ประกอบด้วย ReLU filters ขนาด 3x3 จำนวน 32 ฟิลเตอร์, อินพุทของเลเยอร์นี้คือ ข้อมูลรูปภาพสีขนาด 150x150x3, เอาท์พุทมีมิติ 148x148x32\n",
    "2. Max Pooling Layer ลำดับที่ 1. ประกอบด้วย ReLU filters ขนาด 2x2 จำนวน 32 ฟิลเตอร์, เอาท์พุทมีมิติ 74x74x32\n",
    "3. Convolutional Layer ลำดับที่ 2. ประกอบด้วย filters ขนาด 3x3x32 จำนวน 64 ฟิลเตอร์, เอาท์พุทมีมิติ 72x72x64\n",
    "4. Max Pooling Layer ลำดับที่ 2. ประกอบด้วย filters ขนาด 2x2 จำนวน 64 ฟิลเตอร์, เอาท์พุทมีมิติ 36x36x64\n",
    "5. Convolutional Layer ลำดับที่ 3. ประกอบด้วย filters ขนาด 3x3x64 จำนวน 128 ฟิลเตอร์, เอาท์พุทมีมิติ 34x34x128\n",
    "6. Max Pooling Layer ลำดับที่ 3. ประกอบด้วย filters ขนาด 2x2 จำนวน 128 ฟิลเตอร์, เอาท์พุทมีมิติ 17x17x128\n",
    "7. Convolutional Layer ลำดับที่ 4. ประกอบด้วย filters ขนาด 3x3x128 จำนวน 128 ฟิลเตอร์, เอาท์พุทมีมิติ 15x15x128\n",
    "8. Max Pooling Layer ลำดับที่ 4. ประกอบด้วย filters ขนาด 2x2 จำนวน 128 ฟิลเตอร์, เอาท์พุทมีมิติ 7x7x128\n",
    "9. Flatten Layer. แปลงข้อมูลอินพุทขนาด 7x7x128 เป็น 6272x1\n",
    "10. **Dropout Layer. เป็นเลเยอ์สำหรับโอเปอเรชั่น Dropout เพิ่มเข้ามาเพื่อช่วยลดการเกิด overfitting โดยการปิดนิวรอนบางตัวใน Dense Layer (ความน่าจะเป็นที่นิวรอนแต่ละตัวจะถูกปิดคือ 0.5)**\n",
    "11. Dense Layer ลำดับที่ 1. นิวรอนชนิด ReLU จำนวน 512 เชื่อมต่อกับเลเยอร์ก่อนหน้าและเลเยอร์ถัดไปแบบ fully connected\n",
    "12. Output Layer. ประกอบด้วยนิวรอนขนิด sigmoid จำนวน 1 นิวรอน"
   ]
  },
  {
   "cell_type": "code",
   "execution_count": 8,
   "metadata": {},
   "outputs": [
    {
     "name": "stdout",
     "output_type": "stream",
     "text": [
      "_________________________________________________________________\n",
      "Layer (type)                 Output Shape              Param #   \n",
      "=================================================================\n",
      "conv2d_5 (Conv2D)            (None, 148, 148, 32)      896       \n",
      "_________________________________________________________________\n",
      "max_pooling2d_5 (MaxPooling2 (None, 74, 74, 32)        0         \n",
      "_________________________________________________________________\n",
      "conv2d_6 (Conv2D)            (None, 72, 72, 64)        18496     \n",
      "_________________________________________________________________\n",
      "max_pooling2d_6 (MaxPooling2 (None, 36, 36, 64)        0         \n",
      "_________________________________________________________________\n",
      "conv2d_7 (Conv2D)            (None, 34, 34, 128)       73856     \n",
      "_________________________________________________________________\n",
      "max_pooling2d_7 (MaxPooling2 (None, 17, 17, 128)       0         \n",
      "_________________________________________________________________\n",
      "conv2d_8 (Conv2D)            (None, 15, 15, 128)       147584    \n",
      "_________________________________________________________________\n",
      "max_pooling2d_8 (MaxPooling2 (None, 7, 7, 128)         0         \n",
      "_________________________________________________________________\n",
      "flatten_2 (Flatten)          (None, 6272)              0         \n",
      "_________________________________________________________________\n",
      "dropout_2 (Dropout)          (None, 6272)              0         \n",
      "_________________________________________________________________\n",
      "dense_3 (Dense)              (None, 512)               3211776   \n",
      "_________________________________________________________________\n",
      "dense_4 (Dense)              (None, 1)                 513       \n",
      "=================================================================\n",
      "Total params: 3,453,121\n",
      "Trainable params: 3,453,121\n",
      "Non-trainable params: 0\n",
      "_________________________________________________________________\n"
     ]
    }
   ],
   "source": [
    "from keras import layers\n",
    "from keras import models\n",
    "\n",
    "model = models.Sequential()\n",
    "model.add(layers.Conv2D(32, (3, 3), activation='relu', \n",
    "                        input_shape=(150, 150, 3)))\n",
    "model.add(layers.MaxPool2D((2, 2)))\n",
    "model.add(layers.Conv2D(64, (3, 3), activation='relu'))\n",
    "model.add(layers.MaxPool2D((2, 2)))\n",
    "model.add(layers.Conv2D(128,(3, 3), activation='relu'))\n",
    "model.add(layers.MaxPool2D((2, 2)))\n",
    "model.add(layers.Conv2D(128,(3, 3), activation='relu'))\n",
    "model.add(layers.MaxPool2D((2, 2)))\n",
    "model.add(layers.Flatten())\n",
    "model.add(layers.Dropout(0.5))\n",
    "model.add(layers.Dense(512, activation='relu'))\n",
    "model.add(layers.Dense(1, activation='sigmoid'))\n",
    "\n",
    "model.summary()"
   ]
  },
  {
   "cell_type": "markdown",
   "metadata": {},
   "source": [
    "### Train Model"
   ]
  },
  {
   "cell_type": "markdown",
   "metadata": {},
   "source": [
    "เทรนโมเดล โดยกำหนด loss function เป็น binary crossentropy, ใช้ optimizer เป็น RMSprop สำหรับวิธีการวัดประสิทธิภาพโมเดลใช้ accuracy."
   ]
  },
  {
   "cell_type": "code",
   "execution_count": 9,
   "metadata": {},
   "outputs": [],
   "source": [
    "from keras import optimizers\n",
    "\n",
    "model.compile(loss='binary_crossentropy',\n",
    "              optimizer=optimizers.RMSprop(lr=1e-4),\n",
    "              metrics=['acc'])"
   ]
  },
  {
   "cell_type": "code",
   "execution_count": 10,
   "metadata": {},
   "outputs": [
    {
     "name": "stdout",
     "output_type": "stream",
     "text": [
      "Epoch 1/80\n",
      "100/100 [==============================] - 160s 2s/step - loss: 0.6922 - acc: 0.5195 - val_loss: 0.6793 - val_acc: 0.5220\n",
      "Epoch 2/80\n",
      "100/100 [==============================] - 182s 2s/step - loss: 0.6821 - acc: 0.5390 - val_loss: 0.6594 - val_acc: 0.5820\n",
      "Epoch 3/80\n",
      "100/100 [==============================] - 182s 2s/step - loss: 0.6665 - acc: 0.5820 - val_loss: 0.6524 - val_acc: 0.5930\n",
      "Epoch 4/80\n",
      "100/100 [==============================] - 184s 2s/step - loss: 0.6560 - acc: 0.5905 - val_loss: 0.6340 - val_acc: 0.6430\n",
      "Epoch 5/80\n",
      "100/100 [==============================] - 182s 2s/step - loss: 0.6410 - acc: 0.6145 - val_loss: 0.6361 - val_acc: 0.6470\n",
      "Epoch 6/80\n",
      "100/100 [==============================] - 181s 2s/step - loss: 0.6247 - acc: 0.6460 - val_loss: 0.6114 - val_acc: 0.6710\n",
      "Epoch 7/80\n",
      "100/100 [==============================] - 181s 2s/step - loss: 0.6180 - acc: 0.6370 - val_loss: 0.6185 - val_acc: 0.6630\n",
      "Epoch 8/80\n",
      "100/100 [==============================] - 182s 2s/step - loss: 0.6028 - acc: 0.6870 - val_loss: 0.5875 - val_acc: 0.6790\n",
      "Epoch 9/80\n",
      "100/100 [==============================] - 177s 2s/step - loss: 0.6092 - acc: 0.6645 - val_loss: 0.6367 - val_acc: 0.6450\n",
      "Epoch 10/80\n",
      "100/100 [==============================] - 178s 2s/step - loss: 0.5958 - acc: 0.6785 - val_loss: 0.6033 - val_acc: 0.6720\n",
      "Epoch 11/80\n",
      "100/100 [==============================] - 178s 2s/step - loss: 0.5904 - acc: 0.6935 - val_loss: 0.5778 - val_acc: 0.6890\n",
      "Epoch 12/80\n",
      "100/100 [==============================] - 178s 2s/step - loss: 0.5720 - acc: 0.6970 - val_loss: 0.5900 - val_acc: 0.6780\n",
      "Epoch 13/80\n",
      "100/100 [==============================] - 180s 2s/step - loss: 0.5729 - acc: 0.7025 - val_loss: 0.5599 - val_acc: 0.7040\n",
      "Epoch 14/80\n",
      "100/100 [==============================] - 179s 2s/step - loss: 0.5719 - acc: 0.6895 - val_loss: 0.5335 - val_acc: 0.7140\n",
      "Epoch 16/80\n",
      "100/100 [==============================] - 177s 2s/step - loss: 0.5693 - acc: 0.6975 - val_loss: 0.5578 - val_acc: 0.7220\n",
      "Epoch 17/80\n",
      "100/100 [==============================] - 180s 2s/step - loss: 0.5666 - acc: 0.7090 - val_loss: 0.5649 - val_acc: 0.7040\n",
      "Epoch 18/80\n",
      "100/100 [==============================] - 179s 2s/step - loss: 0.5624 - acc: 0.7070 - val_loss: 0.5613 - val_acc: 0.7150\n",
      "Epoch 19/80\n",
      "100/100 [==============================] - 180s 2s/step - loss: 0.5421 - acc: 0.7255 - val_loss: 0.5472 - val_acc: 0.7190\n",
      "Epoch 20/80\n",
      "100/100 [==============================] - 179s 2s/step - loss: 0.5643 - acc: 0.7100 - val_loss: 0.5370 - val_acc: 0.7300\n",
      "Epoch 21/80\n",
      "100/100 [==============================] - 180s 2s/step - loss: 0.5485 - acc: 0.7180 - val_loss: 0.5580 - val_acc: 0.7180\n",
      "Epoch 22/80\n",
      "100/100 [==============================] - 178s 2s/step - loss: 0.5518 - acc: 0.7220 - val_loss: 0.5609 - val_acc: 0.7190\n",
      "Epoch 23/80\n",
      "100/100 [==============================] - 180s 2s/step - loss: 0.5410 - acc: 0.7210 - val_loss: 0.5226 - val_acc: 0.7390\n",
      "Epoch 24/80\n",
      "100/100 [==============================] - 180s 2s/step - loss: 0.5464 - acc: 0.7215 - val_loss: 0.5325 - val_acc: 0.7350\n",
      "Epoch 25/80\n",
      "100/100 [==============================] - 179s 2s/step - loss: 0.5482 - acc: 0.7205 - val_loss: 0.5129 - val_acc: 0.7260\n",
      "Epoch 26/80\n",
      "100/100 [==============================] - 179s 2s/step - loss: 0.5380 - acc: 0.7225 - val_loss: 0.5417 - val_acc: 0.7290\n",
      "Epoch 27/80\n",
      "100/100 [==============================] - 179s 2s/step - loss: 0.5405 - acc: 0.7290 - val_loss: 0.4860 - val_acc: 0.7590\n",
      "Epoch 28/80\n",
      "100/100 [==============================] - 178s 2s/step - loss: 0.5286 - acc: 0.7275 - val_loss: 0.5061 - val_acc: 0.7580\n",
      "Epoch 29/80\n",
      "100/100 [==============================] - 179s 2s/step - loss: 0.5162 - acc: 0.7425 - val_loss: 0.4991 - val_acc: 0.7410\n",
      "Epoch 30/80\n",
      "100/100 [==============================] - 178s 2s/step - loss: 0.5191 - acc: 0.7305 - val_loss: 0.4794 - val_acc: 0.7740\n",
      "Epoch 31/80\n",
      "100/100 [==============================] - 180s 2s/step - loss: 0.5271 - acc: 0.7370 - val_loss: 0.5049 - val_acc: 0.7570\n",
      "Epoch 32/80\n",
      "100/100 [==============================] - 178s 2s/step - loss: 0.5259 - acc: 0.7485 - val_loss: 0.5382 - val_acc: 0.7170\n",
      "Epoch 33/80\n",
      "100/100 [==============================] - 179s 2s/step - loss: 0.5194 - acc: 0.7370 - val_loss: 0.5860 - val_acc: 0.7200\n",
      "Epoch 34/80\n",
      "100/100 [==============================] - 178s 2s/step - loss: 0.5213 - acc: 0.7390 - val_loss: 0.4768 - val_acc: 0.7780\n",
      "Epoch 35/80\n",
      "100/100 [==============================] - 177s 2s/step - loss: 0.5102 - acc: 0.7530 - val_loss: 0.4900 - val_acc: 0.7700\n",
      "Epoch 36/80\n",
      "100/100 [==============================] - 179s 2s/step - loss: 0.5102 - acc: 0.7450 - val_loss: 0.4964 - val_acc: 0.7550\n",
      "Epoch 37/80\n",
      "100/100 [==============================] - 177s 2s/step - loss: 0.5004 - acc: 0.7560 - val_loss: 0.5309 - val_acc: 0.7440\n",
      "Epoch 38/80\n",
      "100/100 [==============================] - 179s 2s/step - loss: 0.5019 - acc: 0.7440 - val_loss: 0.4821 - val_acc: 0.7550\n",
      "Epoch 39/80\n",
      "100/100 [==============================] - 176s 2s/step - loss: 0.4878 - acc: 0.7565 - val_loss: 0.5896 - val_acc: 0.7520\n",
      "Epoch 40/80\n",
      "100/100 [==============================] - 178s 2s/step - loss: 0.5099 - acc: 0.7555 - val_loss: 0.4687 - val_acc: 0.7690\n",
      "Epoch 41/80\n",
      "100/100 [==============================] - 176s 2s/step - loss: 0.4916 - acc: 0.7580 - val_loss: 0.5041 - val_acc: 0.7490\n",
      "Epoch 42/80\n",
      "100/100 [==============================] - 176s 2s/step - loss: 0.4948 - acc: 0.7660 - val_loss: 0.4549 - val_acc: 0.7900\n",
      "Epoch 43/80\n",
      "100/100 [==============================] - 178s 2s/step - loss: 0.4760 - acc: 0.7745 - val_loss: 0.5073 - val_acc: 0.7530\n",
      "Epoch 44/80\n",
      "100/100 [==============================] - 177s 2s/step - loss: 0.5041 - acc: 0.7395 - val_loss: 0.4571 - val_acc: 0.7860\n",
      "Epoch 45/80\n",
      "100/100 [==============================] - 177s 2s/step - loss: 0.4837 - acc: 0.7700 - val_loss: 0.5982 - val_acc: 0.7270\n",
      "Epoch 46/80\n",
      "100/100 [==============================] - 177s 2s/step - loss: 0.4892 - acc: 0.7540 - val_loss: 0.5156 - val_acc: 0.7710\n",
      "Epoch 47/80\n",
      "100/100 [==============================] - 178s 2s/step - loss: 0.4695 - acc: 0.7785 - val_loss: 0.4924 - val_acc: 0.7450\n",
      "Epoch 48/80\n",
      "100/100 [==============================] - 176s 2s/step - loss: 0.4903 - acc: 0.7620 - val_loss: 0.4713 - val_acc: 0.7850\n",
      "Epoch 49/80\n",
      "100/100 [==============================] - 176s 2s/step - loss: 0.4909 - acc: 0.7620 - val_loss: 0.4541 - val_acc: 0.7900\n",
      "Epoch 50/80\n",
      "100/100 [==============================] - 179s 2s/step - loss: 0.4856 - acc: 0.7760 - val_loss: 0.4328 - val_acc: 0.7960\n",
      "Epoch 51/80\n",
      "100/100 [==============================] - 176s 2s/step - loss: 0.4680 - acc: 0.7790 - val_loss: 0.4691 - val_acc: 0.7890\n",
      "Epoch 52/80\n",
      "100/100 [==============================] - 177s 2s/step - loss: 0.4806 - acc: 0.7695 - val_loss: 0.4753 - val_acc: 0.7620\n",
      "Epoch 53/80\n",
      "100/100 [==============================] - 177s 2s/step - loss: 0.4766 - acc: 0.7660 - val_loss: 0.5021 - val_acc: 0.7600\n",
      "Epoch 54/80\n",
      "100/100 [==============================] - 177s 2s/step - loss: 0.4792 - acc: 0.7660 - val_loss: 0.4640 - val_acc: 0.7550\n",
      "Epoch 55/80\n",
      "100/100 [==============================] - 177s 2s/step - loss: 0.4704 - acc: 0.7710 - val_loss: 0.4426 - val_acc: 0.7830\n",
      "Epoch 56/80\n",
      "100/100 [==============================] - 177s 2s/step - loss: 0.4564 - acc: 0.7830 - val_loss: 0.4520 - val_acc: 0.7930\n",
      "Epoch 57/80\n",
      "100/100 [==============================] - 179s 2s/step - loss: 0.4695 - acc: 0.7685 - val_loss: 0.4576 - val_acc: 0.7970\n",
      "Epoch 58/80\n",
      "100/100 [==============================] - 176s 2s/step - loss: 0.4664 - acc: 0.7810 - val_loss: 0.4334 - val_acc: 0.8010\n",
      "Epoch 59/80\n",
      "100/100 [==============================] - 176s 2s/step - loss: 0.4738 - acc: 0.7765 - val_loss: 0.4470 - val_acc: 0.7750\n",
      "Epoch 60/80\n",
      "100/100 [==============================] - 175s 2s/step - loss: 0.4492 - acc: 0.7905 - val_loss: 0.4914 - val_acc: 0.7730\n",
      "Epoch 61/80\n",
      "100/100 [==============================] - 178s 2s/step - loss: 0.4526 - acc: 0.7810 - val_loss: 0.4263 - val_acc: 0.8190\n",
      "Epoch 62/80\n",
      "100/100 [==============================] - 177s 2s/step - loss: 0.4493 - acc: 0.7895 - val_loss: 0.7082 - val_acc: 0.6790\n",
      "Epoch 63/80\n",
      "100/100 [==============================] - 177s 2s/step - loss: 0.4593 - acc: 0.7815 - val_loss: 0.4263 - val_acc: 0.8080\n",
      "Epoch 64/80\n",
      "100/100 [==============================] - 177s 2s/step - loss: 0.4551 - acc: 0.7840 - val_loss: 0.4262 - val_acc: 0.8190\n",
      "Epoch 65/80\n",
      "100/100 [==============================] - 176s 2s/step - loss: 0.4517 - acc: 0.7855 - val_loss: 0.4576 - val_acc: 0.8020\n",
      "Epoch 66/80\n",
      "100/100 [==============================] - 176s 2s/step - loss: 0.4529 - acc: 0.7900 - val_loss: 0.4330 - val_acc: 0.8010\n",
      "Epoch 67/80\n",
      "100/100 [==============================] - 176s 2s/step - loss: 0.4448 - acc: 0.7975 - val_loss: 0.4364 - val_acc: 0.8060\n",
      "Epoch 68/80\n",
      "100/100 [==============================] - 175s 2s/step - loss: 0.4410 - acc: 0.7880 - val_loss: 0.5049 - val_acc: 0.7560\n",
      "Epoch 69/80\n",
      "100/100 [==============================] - 176s 2s/step - loss: 0.4346 - acc: 0.7975 - val_loss: 0.4257 - val_acc: 0.7930\n",
      "Epoch 70/80\n",
      "100/100 [==============================] - 179s 2s/step - loss: 0.4435 - acc: 0.8015 - val_loss: 0.4520 - val_acc: 0.8040\n",
      "Epoch 71/80\n",
      "100/100 [==============================] - 184s 2s/step - loss: 0.4592 - acc: 0.7855 - val_loss: 0.4377 - val_acc: 0.8050\n",
      "Epoch 72/80\n",
      "100/100 [==============================] - 179s 2s/step - loss: 0.4372 - acc: 0.7950 - val_loss: 0.4560 - val_acc: 0.7970\n",
      "Epoch 73/80\n",
      "100/100 [==============================] - 179s 2s/step - loss: 0.4436 - acc: 0.7960 - val_loss: 0.4371 - val_acc: 0.7880\n",
      "Epoch 74/80\n",
      "100/100 [==============================] - 176s 2s/step - loss: 0.4453 - acc: 0.7940 - val_loss: 0.5009 - val_acc: 0.7920\n",
      "Epoch 75/80\n",
      "100/100 [==============================] - 180s 2s/step - loss: 0.4355 - acc: 0.8020 - val_loss: 0.4538 - val_acc: 0.7720\n",
      "Epoch 76/80\n",
      "100/100 [==============================] - 178s 2s/step - loss: 0.4404 - acc: 0.7960 - val_loss: 0.4226 - val_acc: 0.8050\n",
      "Epoch 77/80\n",
      "100/100 [==============================] - 181s 2s/step - loss: 0.4420 - acc: 0.7955 - val_loss: 0.4353 - val_acc: 0.7890\n",
      "Epoch 78/80\n",
      "100/100 [==============================] - 179s 2s/step - loss: 0.4253 - acc: 0.8110 - val_loss: 0.4743 - val_acc: 0.7630\n",
      "Epoch 79/80\n",
      "100/100 [==============================] - 178s 2s/step - loss: 0.4360 - acc: 0.8025 - val_loss: 0.4118 - val_acc: 0.8170\n",
      "Epoch 80/80\n",
      "100/100 [==============================] - 179s 2s/step - loss: 0.4320 - acc: 0.7965 - val_loss: 0.4385 - val_acc: 0.7990\n"
     ]
    }
   ],
   "source": [
    "history = model.fit_generator(\n",
    "            train_generator, steps_per_epoch=100, \n",
    "            epochs=80,\n",
    "            validation_data=validation_generator,\n",
    "            validation_steps=50)"
   ]
  },
  {
   "cell_type": "markdown",
   "metadata": {},
   "source": [
    "#### Save Model for Later use"
   ]
  },
  {
   "cell_type": "code",
   "execution_count": 11,
   "metadata": {},
   "outputs": [],
   "source": [
    "# reload models after installing h5py\n",
    "from importlib import reload\n",
    "reload(models)\n",
    "\n",
    "modelFilePath = 'cats_and_dogs_smallcnn-reducedOverfit.h5' \n",
    "# save model\n",
    "model.save(modelFilePath)"
   ]
  },
  {
   "cell_type": "markdown",
   "metadata": {},
   "source": [
    "#### แสดงกราฟ Training Accuracy และ Validation Accuracy ในแต่ละรอบของการเทรนโมเดล"
   ]
  },
  {
   "cell_type": "code",
   "execution_count": 12,
   "metadata": {
    "scrolled": false
   },
   "outputs": [
    {
     "data": {
      "image/png": "[encoded data removed]",
      "text/plain": [
       "<matplotlib.figure.Figure at 0x7f95ec218e10>"
      ]
     },
     "metadata": {},
     "output_type": "display_data"
    },
    {
     "data": {
      "image/png": "[encoded data removed]",
      "text/plain": [
       "<matplotlib.figure.Figure at 0x7f95ec841d68>"
      ]
     },
     "metadata": {},
     "output_type": "display_data"
    }
   ],
   "source": [
    "import matplotlib.pyplot as plt\n",
    "%matplotlib inline\n",
    "\n",
    "acc = history.history['acc']\n",
    "val_acc = history.history['val_acc']\n",
    "loss = history.history['loss']\n",
    "val_loss = history.history['val_loss']\n",
    "\n",
    "epochs = range(1, len(acc) + 1)\n",
    "\n",
    "plt.plot(epochs, acc, 'bo', label='Training acc')\n",
    "plt.plot(epochs, val_acc, 'b', label='Validation acc')\n",
    "plt.title('Training and Validation Accuracy')\n",
    "plt.legend()\n",
    "\n",
    "plt.figure()\n",
    "\n",
    "plt.plot(epochs, loss, 'bo', label='Training loss')\n",
    "plt.plot(epochs, val_loss, 'b', label='Validation loss')\n",
    "plt.title('Training and Validation Loss')\n",
    "plt.legend()\n",
    "\n",
    "plt.show()"
   ]
  },
  {
   "cell_type": "markdown",
   "metadata": {},
   "source": [
    "#### Load Saved Model"
   ]
  },
  {
   "cell_type": "code",
   "execution_count": 13,
   "metadata": {},
   "outputs": [
    {
     "name": "stdout",
     "output_type": "stream",
     "text": [
      "test accuracy:  0.7870000004768372\n"
     ]
    }
   ],
   "source": [
    "from keras.models import load_model\n",
    "\n",
    "savedModel = load_model(modelFilePath)\n",
    "(test_loss, test_acc) = savedModel.evaluate_generator(test_generator, steps=50)\n",
    "print('test accuracy: ', test_acc)"
   ]
  }
 ],
 "metadata": {
  "kernelspec": {
   "display_name": "Python 3",
   "language": "python",
   "name": "python3"
  },
  "language_info": {
   "codemirror_mode": {
    "name": "ipython",
    "version": 3
   },
   "file_extension": ".py",
   "mimetype": "text/x-python",
   "name": "python",
   "nbconvert_exporter": "python",
   "pygments_lexer": "ipython3",
   "version": "3.5.4"
  }
 },
 "nbformat": 4,
 "nbformat_minor": 2
}
